{
 "cells": [
  {
   "cell_type": "code",
   "execution_count": 1,
   "metadata": {},
   "outputs": [],
   "source": [
    "import pandas as pd\n",
    "import numpy as np\n",
    "from sklearn.model_selection import train_test_split\n",
    "from sklearn.linear_model import LinearRegression\n",
    "from scipy.stats import pearsonr\n",
    "from sklearn.metrics import mean_squared_error\n",
    "from sklearn.metrics import mean_absolute_error\n",
    "from sklearn.model_selection import KFold\n",
    " "
   ]
  },
  {
   "cell_type": "code",
   "execution_count": 2,
   "metadata": {},
   "outputs": [
    {
     "name": "stdout",
     "output_type": "stream",
     "text": [
      "   2-aminoadipate  3-phosphoglycerate  Alpha-glycerophosphate  4-pyridoxate  \\\n",
      "0        6.112727            6.034198                5.896896      6.000532   \n",
      "1        5.577413            5.727045                5.111468      6.073250   \n",
      "2        5.886398            5.574881                5.541259      5.848375   \n",
      "3        5.770030            6.099229                6.233259      5.543495   \n",
      "4        5.480683            5.469742                6.509397      6.251005   \n",
      "\n",
      "   Aconitate   Adenine   Adipate  Alpha-ketoglutarate       AMP   Citrate  \\\n",
      "0   5.513618  5.868529  5.977177             5.693074  5.923737  5.641242   \n",
      "1   5.802494  5.824473  5.888821             5.768379  5.760784  5.914742   \n",
      "2   5.665026  5.875548  5.894904             5.839640  5.742613  5.570208   \n",
      "3   5.767759  6.155905  6.111148             5.949481  6.342703  6.054781   \n",
      "4   5.190578  5.897085  6.148333             5.607481  5.871600  5.128463   \n",
      "\n",
      "   ...  C56:8 TAG  C56:7 TAG  C56:6 TAG  C56:5 TAG  C56:4 TAG  C56:3 TAG  \\\n",
      "0  ...   6.070239   6.133433   6.091089   6.257711   6.372732   6.202511   \n",
      "1  ...   6.248653   6.633575   6.378052   6.341043   6.360945   6.333540   \n",
      "2  ...   5.942887   5.946988   5.837980   5.913350   6.137530   5.807546   \n",
      "3  ...   6.516922   6.113791   6.282113   6.248667   6.109480   6.043570   \n",
      "4  ...   6.161981   6.777932   6.676390   6.695659   6.751029   6.385056   \n",
      "\n",
      "   C56:2 TAG  C58:8 TAG  C58:7 TAG  C58:6 TAG  \n",
      "0   5.939576   6.309821   6.115974   5.999436  \n",
      "1   6.137271   7.065858   6.832174   6.363064  \n",
      "2   5.704149   5.881193   5.785208   5.504225  \n",
      "3   5.846802   6.429402   5.779815   6.241530  \n",
      "4   6.682612   6.757899   6.728570   6.879260  \n",
      "\n",
      "[5 rows x 225 columns]\n",
      "    H3K4me0   H3K4me1   H3K4me2   H3K4ac1  H3K9me0K14ac0  H3K9me1K14ac0  \\\n",
      "0  0.116020 -0.153144 -0.348607 -1.417128      -1.281177      -0.719707   \n",
      "1 -0.058624  0.219592  0.110946 -0.170282       0.334630       0.497303   \n",
      "2  0.480909  0.298440  0.073777  0.413953      -0.479543       0.133280   \n",
      "3 -0.079957 -0.617656 -0.566702  0.079932       0.373140       0.159682   \n",
      "4 -0.059965 -0.063483 -0.267980  0.357422       0.075651       0.047830   \n",
      "\n",
      "   H3K9me2K14ac0  H3K9me3K14ac0  H3K9ac1K14ac0  H3K9me0K14ac1  ...  \\\n",
      "0      -0.208080      -0.033416      -0.967821      -1.150058  ...   \n",
      "1       0.307907      -0.466686       0.062518      -0.517698  ...   \n",
      "2       0.053279      -0.220467      -0.427160       0.215504  ...   \n",
      "3       0.060946      -0.181112       0.208328       0.182229  ...   \n",
      "4       0.115243      -0.498239      -0.059567       0.845077  ...   \n",
      "\n",
      "   H3K27ac1K36me0  H3K27ac1K36me1  H3K27ac1K36me2  H3K27ac1K36me3  \\\n",
      "0        0.396178        1.261963        0.492776       -0.211349   \n",
      "1       -1.198709       -1.394997       -1.123119       -1.501911   \n",
      "2        0.055683       -0.659294        0.114288       -1.289012   \n",
      "3        1.098303        0.381884        0.258282        0.751323   \n",
      "4       -0.185237        0.239421        0.358072       -0.176527   \n",
      "\n",
      "   H3.3K27me0K36me0  H3K56me0  H3K56me1  H3K79me0  H3K79me1  H3K79me2  \n",
      "0         -0.554973 -0.222912 -0.310910 -0.272655  0.271469  0.469647  \n",
      "1         -0.180229 -0.075173       NaN  0.051018  0.099032  0.169761  \n",
      "2          0.280396  0.117564       NaN  0.185984  0.191760 -0.437561  \n",
      "3          0.031194 -0.199316  0.037929  0.003978 -0.225147 -0.061445  \n",
      "4         -0.351188  0.037021       NaN  0.045495 -0.153684 -0.106306  \n",
      "\n",
      "[5 rows x 42 columns]\n"
     ]
    }
   ],
   "source": [
    "md = pd.read_excel(io='CCLE metabolomics dataset.xlsx',sheet_name=\"All\")\n",
    "mt = md.drop(['Tissue', 'Medium','Culture'], axis=1)\n",
    "hm = pd.read_csv('GCP_proteomics_remapped.csv')\n",
    "merge_tb = mt.merge(hm,how='inner',left_on='CCL', right_on='Cell Line')\n",
    "MET = merge_tb.iloc[:,1:226]\n",
    "GCP = merge_tb.iloc[:,227:269]\n",
    "print(MET.head())\n",
    "print(GCP.head())\n"
   ]
  },
  {
   "cell_type": "code",
   "execution_count": 3,
   "metadata": {},
   "outputs": [
    {
     "name": "stdout",
     "output_type": "stream",
     "text": [
      "(259, 42)\n",
      "(604, 225)\n"
     ]
    }
   ],
   "source": [
    "# GCP.to_numpy()\n",
    "# MET.to_numpy()\n",
    "GCP = np.nan_to_num(GCP, nan=0)\n",
    "MET = np.nan_to_num(MET, nan=0)\n",
    "Xtrain, Xtest, Ytrain, Ytest =train_test_split(GCP, MET, test_size=0.3, random_state=0)\n",
    "\n",
    "# print(GCP.shape)\n",
    "# print(Xtrain)\n",
    "print(Xtest.shape)\n",
    "# print(MET.shape)\n",
    "print(Ytrain.shape)\n",
    "# print(Ytest.shape)"
   ]
  },
  {
   "cell_type": "code",
   "execution_count": 4,
   "metadata": {
    "scrolled": false
   },
   "outputs": [
    {
     "name": "stdout",
     "output_type": "stream",
     "text": [
      "[LinearRegression(), LinearRegression(), LinearRegression(), LinearRegression(), LinearRegression(), LinearRegression(), LinearRegression(), LinearRegression(), LinearRegression(), LinearRegression(), LinearRegression(), LinearRegression(), LinearRegression(), LinearRegression(), LinearRegression(), LinearRegression(), LinearRegression(), LinearRegression(), LinearRegression(), LinearRegression(), LinearRegression(), LinearRegression(), LinearRegression(), LinearRegression(), LinearRegression(), LinearRegression(), LinearRegression(), LinearRegression(), LinearRegression(), LinearRegression(), LinearRegression(), LinearRegression(), LinearRegression(), LinearRegression(), LinearRegression(), LinearRegression(), LinearRegression(), LinearRegression(), LinearRegression(), LinearRegression(), LinearRegression(), LinearRegression(), LinearRegression(), LinearRegression(), LinearRegression(), LinearRegression(), LinearRegression(), LinearRegression(), LinearRegression(), LinearRegression(), LinearRegression(), LinearRegression(), LinearRegression(), LinearRegression(), LinearRegression(), LinearRegression(), LinearRegression(), LinearRegression(), LinearRegression(), LinearRegression(), LinearRegression(), LinearRegression(), LinearRegression(), LinearRegression(), LinearRegression(), LinearRegression(), LinearRegression(), LinearRegression(), LinearRegression(), LinearRegression(), LinearRegression(), LinearRegression(), LinearRegression(), LinearRegression(), LinearRegression(), LinearRegression(), LinearRegression(), LinearRegression(), LinearRegression(), LinearRegression(), LinearRegression(), LinearRegression(), LinearRegression(), LinearRegression(), LinearRegression(), LinearRegression(), LinearRegression(), LinearRegression(), LinearRegression(), LinearRegression(), LinearRegression(), LinearRegression(), LinearRegression(), LinearRegression(), LinearRegression(), LinearRegression(), LinearRegression(), LinearRegression(), LinearRegression(), LinearRegression(), LinearRegression(), LinearRegression(), LinearRegression(), LinearRegression(), LinearRegression(), LinearRegression(), LinearRegression(), LinearRegression(), LinearRegression(), LinearRegression(), LinearRegression(), LinearRegression(), LinearRegression(), LinearRegression(), LinearRegression(), LinearRegression(), LinearRegression(), LinearRegression(), LinearRegression(), LinearRegression(), LinearRegression(), LinearRegression(), LinearRegression(), LinearRegression(), LinearRegression(), LinearRegression(), LinearRegression(), LinearRegression(), LinearRegression(), LinearRegression(), LinearRegression(), LinearRegression(), LinearRegression(), LinearRegression(), LinearRegression(), LinearRegression(), LinearRegression(), LinearRegression(), LinearRegression(), LinearRegression(), LinearRegression(), LinearRegression(), LinearRegression(), LinearRegression(), LinearRegression(), LinearRegression(), LinearRegression(), LinearRegression(), LinearRegression(), LinearRegression(), LinearRegression(), LinearRegression(), LinearRegression(), LinearRegression(), LinearRegression(), LinearRegression(), LinearRegression(), LinearRegression(), LinearRegression(), LinearRegression(), LinearRegression(), LinearRegression(), LinearRegression(), LinearRegression(), LinearRegression(), LinearRegression(), LinearRegression(), LinearRegression(), LinearRegression(), LinearRegression(), LinearRegression(), LinearRegression(), LinearRegression(), LinearRegression(), LinearRegression(), LinearRegression(), LinearRegression(), LinearRegression(), LinearRegression(), LinearRegression(), LinearRegression(), LinearRegression(), LinearRegression(), LinearRegression(), LinearRegression(), LinearRegression(), LinearRegression(), LinearRegression(), LinearRegression(), LinearRegression(), LinearRegression(), LinearRegression(), LinearRegression(), LinearRegression(), LinearRegression(), LinearRegression(), LinearRegression(), LinearRegression(), LinearRegression(), LinearRegression(), LinearRegression(), LinearRegression(), LinearRegression(), LinearRegression(), LinearRegression(), LinearRegression(), LinearRegression(), LinearRegression(), LinearRegression(), LinearRegression(), LinearRegression(), LinearRegression(), LinearRegression(), LinearRegression(), LinearRegression(), LinearRegression(), LinearRegression(), LinearRegression(), LinearRegression(), LinearRegression(), LinearRegression(), LinearRegression(), LinearRegression(), LinearRegression(), LinearRegression()]\n"
     ]
    }
   ],
   "source": [
    "\n",
    "GCP2MET_models = []\n",
    "for i in range(Ytrain.shape[1]):\n",
    "    mdl_G2M = LinearRegression().fit(Xtrain, Ytrain[:, i])\n",
    "    GCP2MET_models.append(mdl_G2M)\n",
    "\n",
    "#     GCP2MET_models.append(mdl_G2M.coef_)\n",
    "#     Ypred = mdl_G2M.coef_ * Xtest\n",
    "print(GCP2MET_models)\n",
    "# print(len(GCP2MET_models))\n",
    "\n",
    "MET2GCP_models = []\n",
    "\n",
    "for j in range(Xtrain.shape[1]):\n",
    "    mdl_M2G = LinearRegression().fit(Ytrain, Xtrain[:,j])\n",
    "    MET2GCP_models.append(mdl_M2G)\n",
    "\n",
    "#     MET2GCP_models.append(mdl_M2G.coef_)\n",
    "#     print(MET2GCP_models)\n",
    "# print(len(MET2GCP_models))"
   ]
  },
  {
   "cell_type": "code",
   "execution_count": 5,
   "metadata": {},
   "outputs": [],
   "source": [
    "def evaluate_models(models, Xtest, Ytest):\n",
    "    \"\"\"\n",
    "    evaluate_models returns results from the model predictions, including the pearson\n",
    "    correlation coefficient, p-Values, and MSE.\n",
    "\n",
    "    :param models:         A list of scikit-learn model objects.\n",
    "    :param Xtest:          A numpy array or pandas dataframe containing validation set input data.\n",
    "    :param Ytest:          A numpy array or pandas dataframe containing validation set output data.\n",
    "    :return pred_resul:    A dictionary containing the final MSE, pValue, or rValue.\n",
    "    \n",
    "    \"\"\"\n",
    "    \n",
    "    predictions = []\n",
    "    rValue = list()\n",
    "    pValue = list()\n",
    "    MSE = list()\n",
    "    for i in range(len(models)):\n",
    "        mdl = models[i]\n",
    "        Ypred = mdl.predict(Xtest)\n",
    "        predictions.append(Ypred)\n",
    "        \n",
    "        r, pvalue = pearsonr(Ypred, Ytest[:, i])\n",
    "        rValue.append(r)\n",
    "        pValue.append(pvalue)\n",
    "        \n",
    "        mse = mean_squared_error(Ypred, Ytest[:, i])\n",
    "        MSE.append(mse)\n",
    "           \n",
    "\n",
    "    df_MSE = pd.DataFrame(MSE)\n",
    "    df_pValue = pd.DataFrame(pValue)\n",
    "    df_rValue = pd.DataFrame(rValue)\n",
    "    \n",
    "    return df_MSE, df_pValue, df_rValue\n"
   ]
  },
  {
   "cell_type": "code",
   "execution_count": 16,
   "metadata": {},
   "outputs": [
    {
     "name": "stdout",
     "output_type": "stream",
     "text": [
      "     GCP2MET_models\n",
      "0          0.105660\n",
      "1          0.113761\n",
      "2          0.211453\n",
      "3          0.124643\n",
      "4          0.102915\n",
      "..              ...\n",
      "220        0.157474\n",
      "221        0.174273\n",
      "222        0.269746\n",
      "223        0.353366\n",
      "224        0.266817\n",
      "\n",
      "[225 rows x 1 columns]\n"
     ]
    }
   ],
   "source": [
    "mse1,p1,pearson1 = evaluate_models(GCP2MET_models, Xtest, Ytest)\n",
    "mse1.columns = [\"GCP2MET_models\"]\n",
    "print(mse1)"
   ]
  },
  {
   "cell_type": "code",
   "execution_count": 7,
   "metadata": {},
   "outputs": [
    {
     "name": "stdout",
     "output_type": "stream",
     "text": [
      "           0         1         2         3         4         5         6    \\\n",
      "mse1  0.098891  0.094329  0.319502  0.113154  0.105149  0.133179  0.045786   \n",
      "mse2  0.123628  0.103319  0.335725  0.139940  0.102402  0.140503  0.043725   \n",
      "mse3  0.099345  0.103648  0.278150  0.128813  0.099365  0.136939  0.038375   \n",
      "\n",
      "           7         8         9    ...       215       216       217  \\\n",
      "mse1  0.080428  0.250379  0.112139  ...  0.145670  0.202951  0.192299   \n",
      "mse2  0.064761  0.253493  0.116281  ...  0.101652  0.203684  0.191712   \n",
      "mse3  0.067909  0.191660  0.102278  ...  0.124050  0.197997  0.183160   \n",
      "\n",
      "           218       219       220       221       222       223       224  \n",
      "mse1  0.224030  0.169372  0.142034  0.170940  0.298064  0.340335  0.290046  \n",
      "mse2  0.250278  0.189576  0.166025  0.201022  0.316814  0.396047  0.300359  \n",
      "mse3  0.250604  0.200674  0.176717  0.198773  0.277209  0.326478  0.239974  \n",
      "\n",
      "[3 rows x 225 columns]\n"
     ]
    }
   ],
   "source": [
    "\n",
    "kf = KFold(n_splits=3)\n",
    "\n",
    "KFold(n_splits=3, random_state=None, shuffle=True)\n",
    "mse_result = pd.DataFrame()\n",
    "pvalue_result = pd.DataFrame()\n",
    "rvalue_result = pd.DataFrame()\n",
    "for train_index, test_index in kf.split(Xtrain, Ytrain):\n",
    "#     print(\"TRAIN:\", train_index, \"TEST:\", test_index)\n",
    "    X_train, X_test = Xtrain[train_index], Xtrain[test_index]\n",
    "    y_train, y_test = Ytrain[train_index], Ytrain[test_index]\n",
    "    v_GCP2MET_models = []\n",
    "    final_metrics = []\n",
    "    for i in range(y_train.shape[1]):\n",
    "        mdl_G2M = LinearRegression().fit(X_train, y_train[:, i])\n",
    "        v_GCP2MET_models.append(mdl_G2M)\n",
    "        df_MSE, df_pValue, df_rValue = evaluate_models(v_GCP2MET_models, X_test, y_test)\n",
    "#     print(\"mse:_\")\n",
    "#     print(df_MSE)\n",
    "    mse_result = pd.concat([mse_result,df_MSE],axis = 1)\n",
    "    pvalue_result = pd.concat([pvalue_result,df_pValue],axis = 1)\n",
    "    rvalue_result = pd.concat([rvalue_result,df_rValue],axis = 1)\n",
    "\n",
    "    \n",
    "mse_result.columns = [\"mse1\",\"mse2\",\"mse3\"]\n",
    "mse_result = mse_result.T\n",
    "print(mse_result)\n",
    "       \n",
    "    \n",
    "\n",
    "# MET2GCP_models = []\n",
    "\n",
    "# for j in range(Xtrain.shape[1]):\n",
    "#     mdl_M2G = LinearRegression().fit(Ytrain, Xtrain[:,j])\n",
    "#     MET2GCP_models.append(mdl_M2G)\n"
   ]
  },
  {
   "cell_type": "code",
   "execution_count": 23,
   "metadata": {},
   "outputs": [
    {
     "name": "stdout",
     "output_type": "stream",
     "text": [
      "0      mse1\n",
      "1      mse1\n",
      "2      mse3\n",
      "3      mse1\n",
      "4      mse3\n",
      "       ... \n",
      "220    mse1\n",
      "221    mse1\n",
      "222    mse3\n",
      "223    mse3\n",
      "224    mse3\n",
      "Length: 225, dtype: object\n"
     ]
    }
   ],
   "source": [
    "minMSE = mse_result.idxmin()\n",
    "print(minMSE)"
   ]
  },
  {
   "cell_type": "code",
   "execution_count": 17,
   "metadata": {},
   "outputs": [
    {
     "name": "stdout",
     "output_type": "stream",
     "text": [
      "     GCP2MET_models  v_GCP2MET_models\n",
      "0          0.105660          0.098891\n",
      "1          0.113761          0.094329\n",
      "2          0.211453          0.278150\n",
      "3          0.124643          0.113154\n",
      "4          0.102915          0.099365\n",
      "..              ...               ...\n",
      "220        0.157474          0.142034\n",
      "221        0.174273          0.170940\n",
      "222        0.269746          0.277209\n",
      "223        0.353366          0.326478\n",
      "224        0.266817          0.239974\n",
      "\n",
      "[225 rows x 2 columns]\n"
     ]
    }
   ],
   "source": [
    "mse_min = pd.DataFrame()\n",
    "MSE_min = list()\n",
    "for index in mse_result:\n",
    "    v = mse_result[index][minMSE[index]]\n",
    "    MSE_min.append(v)\n",
    "#     print(v)\n",
    "mse_min = pd.DataFrame(MSE_min)\n",
    "mse_min.columns = [\"v_GCP2MET_models\"]\n",
    "# print(mse_min)\n",
    "raw = mse1.join(mse_min)\n",
    "print(raw)\n"
   ]
  },
  {
   "cell_type": "code",
   "execution_count": 19,
   "metadata": {},
   "outputs": [
    {
     "name": "stdout",
     "output_type": "stream",
     "text": [
      "[LinearRegression(), LinearRegression(), LinearRegression(), LinearRegression(), LinearRegression(), LinearRegression(), LinearRegression(), LinearRegression(), LinearRegression(), LinearRegression(), LinearRegression(), LinearRegression(), LinearRegression(), LinearRegression(), LinearRegression(), LinearRegression(), LinearRegression(), LinearRegression(), LinearRegression(), LinearRegression(), LinearRegression(), LinearRegression(), LinearRegression(), LinearRegression(), LinearRegression(), LinearRegression(), LinearRegression(), LinearRegression(), LinearRegression(), LinearRegression(), LinearRegression(), LinearRegression(), LinearRegression(), LinearRegression(), LinearRegression(), LinearRegression(), LinearRegression(), LinearRegression(), LinearRegression(), LinearRegression(), LinearRegression(), LinearRegression(), LinearRegression(), LinearRegression(), LinearRegression(), LinearRegression(), LinearRegression(), LinearRegression(), LinearRegression(), LinearRegression(), LinearRegression(), LinearRegression(), LinearRegression(), LinearRegression(), LinearRegression(), LinearRegression(), LinearRegression(), LinearRegression(), LinearRegression(), LinearRegression(), LinearRegression(), LinearRegression(), LinearRegression(), LinearRegression(), LinearRegression(), LinearRegression(), LinearRegression(), LinearRegression(), LinearRegression(), LinearRegression(), LinearRegression(), LinearRegression(), LinearRegression(), LinearRegression(), LinearRegression(), LinearRegression(), LinearRegression(), LinearRegression(), LinearRegression(), LinearRegression(), LinearRegression(), LinearRegression(), LinearRegression(), LinearRegression(), LinearRegression(), LinearRegression(), LinearRegression(), LinearRegression(), LinearRegression(), LinearRegression(), LinearRegression(), LinearRegression(), LinearRegression(), LinearRegression(), LinearRegression(), LinearRegression(), LinearRegression(), LinearRegression(), LinearRegression(), LinearRegression(), LinearRegression(), LinearRegression(), LinearRegression(), LinearRegression(), LinearRegression(), LinearRegression(), LinearRegression(), LinearRegression(), LinearRegression(), LinearRegression(), LinearRegression(), LinearRegression(), LinearRegression(), LinearRegression(), LinearRegression(), LinearRegression(), LinearRegression(), LinearRegression(), LinearRegression(), LinearRegression(), LinearRegression(), LinearRegression(), LinearRegression(), LinearRegression(), LinearRegression(), LinearRegression(), LinearRegression(), LinearRegression(), LinearRegression(), LinearRegression(), LinearRegression(), LinearRegression(), LinearRegression(), LinearRegression(), LinearRegression(), LinearRegression(), LinearRegression(), LinearRegression(), LinearRegression(), LinearRegression(), LinearRegression(), LinearRegression(), LinearRegression(), LinearRegression(), LinearRegression(), LinearRegression(), LinearRegression(), LinearRegression(), LinearRegression(), LinearRegression(), LinearRegression(), LinearRegression(), LinearRegression(), LinearRegression(), LinearRegression(), LinearRegression(), LinearRegression(), LinearRegression(), LinearRegression(), LinearRegression(), LinearRegression(), LinearRegression(), LinearRegression(), LinearRegression(), LinearRegression(), LinearRegression(), LinearRegression(), LinearRegression(), LinearRegression(), LinearRegression(), LinearRegression(), LinearRegression(), LinearRegression(), LinearRegression(), LinearRegression(), LinearRegression(), LinearRegression(), LinearRegression(), LinearRegression(), LinearRegression(), LinearRegression(), LinearRegression(), LinearRegression(), LinearRegression(), LinearRegression(), LinearRegression(), LinearRegression(), LinearRegression(), LinearRegression(), LinearRegression(), LinearRegression(), LinearRegression(), LinearRegression(), LinearRegression(), LinearRegression(), LinearRegression(), LinearRegression(), LinearRegression(), LinearRegression(), LinearRegression(), LinearRegression(), LinearRegression(), LinearRegression(), LinearRegression(), LinearRegression(), LinearRegression(), LinearRegression(), LinearRegression(), LinearRegression(), LinearRegression(), LinearRegression(), LinearRegression(), LinearRegression(), LinearRegression(), LinearRegression(), LinearRegression(), LinearRegression(), LinearRegression(), LinearRegression(), LinearRegression(), LinearRegression(), LinearRegression(), LinearRegression(), LinearRegression(), LinearRegression()]\n"
     ]
    }
   ],
   "source": [
    "\n",
    "new_GCP2MET = list()\n",
    "for index, row in raw.iterrows():\n",
    "    if row['GCP2MET_models'] < row['v_GCP2MET_models']:\n",
    "        \n",
    "        new_GCP2MET.append(GCP2MET_models[index])\n",
    "    else:\n",
    "        new_GCP2MET.append(v_GCP2MET_models[index])\n",
    "        \n",
    "    \n",
    "print(new_GCP2MET)"
   ]
  },
  {
   "cell_type": "code",
   "execution_count": null,
   "metadata": {},
   "outputs": [],
   "source": []
  },
  {
   "cell_type": "code",
   "execution_count": 21,
   "metadata": {},
   "outputs": [
    {
     "name": "stdout",
     "output_type": "stream",
     "text": [
      "            0         1         2         3         4         5         6   \\\n",
      "mse1  0.278417  0.602853  0.974677  2.441553  0.459369  0.340847  0.318485   \n",
      "mse2  0.267023  0.550682  0.850470  2.371134  0.531666  0.377817  0.367990   \n",
      "mse3  0.235952  0.705763  0.798577  2.282222  0.424247  0.345435  0.377377   \n",
      "\n",
      "            7         8         9   ...        32        33        34  \\\n",
      "mse1  0.509803  1.173574  0.740704  ...  1.715578  1.983225  1.772992   \n",
      "mse2  0.606396  1.081328  0.833995  ...  2.053370  2.572370  1.867790   \n",
      "mse3  0.521812  0.861796  0.589929  ...  1.806748  2.627610  1.953604   \n",
      "\n",
      "            35        36        37        38        39        40        41  \n",
      "mse1  1.707244  0.825451  0.078526  3.219407  0.189220  0.390186  1.148773  \n",
      "mse2  2.054275  0.823895  0.086911  3.499662  0.262691  0.536727  1.569529  \n",
      "mse3  2.180980  0.824251  0.091608  3.133288  0.193200  0.415433  1.396639  \n",
      "\n",
      "[3 rows x 42 columns]\n"
     ]
    }
   ],
   "source": [
    "## MET TO GCP\n",
    "mse2,p2,pearson2 = evaluate_models(MET2GCP_models, Ytest, Xtest)\n",
    "mse2.columns = [\"MET2GCP_models\"]\n",
    "\n",
    "kf = KFold(n_splits=3)\n",
    "KFold(n_splits=3, random_state=None, shuffle=True)\n",
    "mse2_result = pd.DataFrame()\n",
    "# pvalue_result = pd.DataFrame()\n",
    "# rvalue_result = pd.DataFrame()\n",
    "for train_index, test_index in kf.split(Xtrain, Ytrain):\n",
    "    X_train, X_test = Xtrain[train_index], Xtrain[test_index]\n",
    "    y_train, y_test = Ytrain[train_index], Ytrain[test_index]\n",
    "    v_MET2GCP_models = []\n",
    "    metrics = []\n",
    "    for i in range(X_train.shape[1]):\n",
    "        mdl_M2G = LinearRegression().fit(y_train, X_train[:, i])\n",
    "        v_MET2GCP_models.append(mdl_M2G)\n",
    "        df_MSE, df_pValue, df_rValue = evaluate_models(v_MET2GCP_models, y_test, X_test)\n",
    "    mse2_result = pd.concat([mse2_result,df_MSE],axis = 1)\n",
    "#     pvalue_result = pd.concat([pvalue_result,df_pValue],axis = 1)\n",
    "#     rvalue_result = pd.concat([rvalue_result,df_rValue],axis = 1)\n",
    "mse2_result.columns = [\"mse1\",\"mse2\",\"mse3\"]\n",
    "mse2_result = mse2_result.T\n",
    "print(mse2_result) "
   ]
  },
  {
   "cell_type": "code",
   "execution_count": 22,
   "metadata": {},
   "outputs": [
    {
     "name": "stdout",
     "output_type": "stream",
     "text": [
      "[LinearRegression(), LinearRegression(), LinearRegression(), LinearRegression(), LinearRegression(), LinearRegression(), LinearRegression(), LinearRegression(), LinearRegression(), LinearRegression(), LinearRegression(), LinearRegression(), LinearRegression(), LinearRegression(), LinearRegression(), LinearRegression(), LinearRegression(), LinearRegression(), LinearRegression(), LinearRegression(), LinearRegression(), LinearRegression(), LinearRegression(), LinearRegression(), LinearRegression(), LinearRegression(), LinearRegression(), LinearRegression(), LinearRegression(), LinearRegression(), LinearRegression(), LinearRegression(), LinearRegression(), LinearRegression(), LinearRegression(), LinearRegression(), LinearRegression(), LinearRegression(), LinearRegression(), LinearRegression(), LinearRegression(), LinearRegression(), LinearRegression(), LinearRegression(), LinearRegression(), LinearRegression(), LinearRegression(), LinearRegression(), LinearRegression(), LinearRegression(), LinearRegression(), LinearRegression(), LinearRegression(), LinearRegression(), LinearRegression(), LinearRegression(), LinearRegression(), LinearRegression(), LinearRegression(), LinearRegression(), LinearRegression(), LinearRegression(), LinearRegression(), LinearRegression(), LinearRegression(), LinearRegression(), LinearRegression(), LinearRegression(), LinearRegression(), LinearRegression(), LinearRegression(), LinearRegression(), LinearRegression(), LinearRegression(), LinearRegression(), LinearRegression(), LinearRegression(), LinearRegression(), LinearRegression(), LinearRegression(), LinearRegression(), LinearRegression(), LinearRegression(), LinearRegression(), LinearRegression(), LinearRegression(), LinearRegression(), LinearRegression(), LinearRegression(), LinearRegression(), LinearRegression(), LinearRegression(), LinearRegression(), LinearRegression(), LinearRegression(), LinearRegression(), LinearRegression(), LinearRegression(), LinearRegression(), LinearRegression(), LinearRegression(), LinearRegression(), LinearRegression(), LinearRegression(), LinearRegression(), LinearRegression(), LinearRegression(), LinearRegression(), LinearRegression(), LinearRegression(), LinearRegression(), LinearRegression(), LinearRegression(), LinearRegression(), LinearRegression(), LinearRegression(), LinearRegression(), LinearRegression(), LinearRegression(), LinearRegression(), LinearRegression(), LinearRegression(), LinearRegression(), LinearRegression(), LinearRegression(), LinearRegression(), LinearRegression(), LinearRegression(), LinearRegression(), LinearRegression(), LinearRegression(), LinearRegression(), LinearRegression(), LinearRegression(), LinearRegression(), LinearRegression(), LinearRegression(), LinearRegression(), LinearRegression(), LinearRegression(), LinearRegression(), LinearRegression(), LinearRegression(), LinearRegression(), LinearRegression(), LinearRegression(), LinearRegression(), LinearRegression(), LinearRegression(), LinearRegression(), LinearRegression(), LinearRegression(), LinearRegression(), LinearRegression(), LinearRegression(), LinearRegression(), LinearRegression(), LinearRegression(), LinearRegression(), LinearRegression(), LinearRegression(), LinearRegression(), LinearRegression(), LinearRegression(), LinearRegression(), LinearRegression(), LinearRegression(), LinearRegression(), LinearRegression(), LinearRegression(), LinearRegression(), LinearRegression(), LinearRegression(), LinearRegression(), LinearRegression(), LinearRegression(), LinearRegression(), LinearRegression(), LinearRegression(), LinearRegression(), LinearRegression(), LinearRegression(), LinearRegression(), LinearRegression(), LinearRegression(), LinearRegression(), LinearRegression(), LinearRegression(), LinearRegression(), LinearRegression(), LinearRegression(), LinearRegression(), LinearRegression(), LinearRegression(), LinearRegression(), LinearRegression(), LinearRegression(), LinearRegression(), LinearRegression(), LinearRegression(), LinearRegression(), LinearRegression(), LinearRegression(), LinearRegression(), LinearRegression(), LinearRegression(), LinearRegression(), LinearRegression(), LinearRegression(), LinearRegression(), LinearRegression(), LinearRegression(), LinearRegression(), LinearRegression(), LinearRegression(), LinearRegression(), LinearRegression(), LinearRegression(), LinearRegression(), LinearRegression(), LinearRegression(), LinearRegression(), LinearRegression(), LinearRegression(), LinearRegression()]\n"
     ]
    }
   ],
   "source": [
    "minMSE2 = mse2_result.idxmin()\n",
    "# print(minMSE)\n",
    "\n",
    "mse2_min = pd.DataFrame()\n",
    "MSE2_min = list()\n",
    "for index in mse2_result:\n",
    "    v = mse2_result[index][minMSE2[index]]\n",
    "    MSE2_min.append(v)\n",
    "#     print(v)\n",
    "mse2_min = pd.DataFrame(MSE2_min)\n",
    "mse2_min.columns = [\"v_GCP2MET_models\"]\n",
    "# print(mse2_min)\n",
    "raw2 = mse2.join(mse2_min)\n",
    "# print(raw2)\n",
    "\n",
    "new_MET2GCP = list()\n",
    "for index, row in raw.iterrows():\n",
    "    if row['GCP2MET_models'] < row['v_GCP2MET_models']:\n",
    "        \n",
    "        new_MET2GCP.append(GCP2MET_models[index])\n",
    "    else:\n",
    "        new_MET2GCP.append(v_GCP2MET_models[index])\n",
    "        \n",
    "    \n",
    "print(new_MET2GCP)"
   ]
  },
  {
   "cell_type": "code",
   "execution_count": null,
   "metadata": {},
   "outputs": [],
   "source": []
  }
 ],
 "metadata": {
  "kernelspec": {
   "display_name": "Python 3",
   "language": "python",
   "name": "python3"
  },
  "language_info": {
   "codemirror_mode": {
    "name": "ipython",
    "version": 3
   },
   "file_extension": ".py",
   "mimetype": "text/x-python",
   "name": "python",
   "nbconvert_exporter": "python",
   "pygments_lexer": "ipython3",
   "version": "3.8.3"
  }
 },
 "nbformat": 4,
 "nbformat_minor": 4
}
