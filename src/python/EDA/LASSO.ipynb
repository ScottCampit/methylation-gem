{
 "cells": [
  {
   "cell_type": "code",
   "execution_count": 1,
   "metadata": {},
   "outputs": [],
   "source": [
    "import numpy as np\n",
    "import pandas as pd\n",
    "from sklearn.model_selection import train_test_split\n",
    "from sklearn import linear_model\n",
    "from scipy.stats import pearsonr\n",
    "from sklearn.metrics import mean_squared_error\n",
    "from sklearn.metrics import mean_absolute_error\n",
    "from sklearn.model_selection import KFold\n",
    "from sklearn.linear_model import LassoCV\n",
    "from sklearn.linear_model import MultiTaskLassoCV\n",
    "from yellowbrick.datasets import load_concrete\n",
    "from yellowbrick.regressor import AlphaSelection\n",
    "from yellowbrick.regressor.alphas import alphas\n",
    "\n",
    "\n"
   ]
  },
  {
   "cell_type": "code",
   "execution_count": 2,
   "metadata": {},
   "outputs": [
    {
     "name": "stdout",
     "output_type": "stream",
     "text": [
      "           0         1         2         3         4         5         6   \\\n",
      "0    0.024045  0.188199  0.675553  0.262296 -0.004142 -0.115229  0.084376   \n",
      "1   -0.097078 -0.157050 -0.224470  0.069887 -0.666851 -0.274659  0.297153   \n",
      "2   -0.013619  0.142626  0.808153  0.088745  0.323300 -0.194603 -0.181593   \n",
      "3   -0.113688 -0.867921  0.262414 -0.515059 -0.715857 -0.489771  0.429724   \n",
      "4    0.083515 -0.081834  0.252509  0.816542  0.162376  0.000064 -0.136875   \n",
      "..        ...       ...       ...       ...       ...       ...       ...   \n",
      "599  0.151816 -0.315067 -0.648378  0.193388  0.359878 -0.053571  0.250489   \n",
      "600  0.104364  0.441337 -0.802840  0.000000 -0.074239 -0.069448  0.489005   \n",
      "601 -0.062003  0.391046  0.830222  0.240985  0.415098 -0.286115 -0.503596   \n",
      "602  0.026296  0.433020 -0.152342  0.000000  0.523850  0.187276 -0.151856   \n",
      "603  0.189941  0.250454  0.351840  0.056213 -0.278875  0.217273  0.428281   \n",
      "\n",
      "           7         8         9   ...        32        33        34  \\\n",
      "0   -0.052258  0.447639  0.016134  ...  0.137631  0.000000 -0.603699   \n",
      "1    0.105155 -0.567466 -0.809061  ...  0.197616  0.389500  0.467478   \n",
      "2   -0.214432  1.043308  0.601490  ...  0.412057  0.054479  1.171037   \n",
      "3    0.286528 -0.789335 -1.151862  ... -0.461491  0.057651  0.207343   \n",
      "4   -0.191180 -0.088426  0.071387  ...  0.614286  0.211648  0.224663   \n",
      "..        ...       ...       ...  ...       ...       ...       ...   \n",
      "599 -0.128719  0.462128  0.204293  ... -0.031170 -0.644442 -0.627305   \n",
      "600  0.975963 -1.240632 -0.499932  ... -1.154116  0.000000 -0.141234   \n",
      "601  0.269331  0.694784  0.747404  ...  1.509050  2.210702  2.513757   \n",
      "602  0.011697 -0.472222  0.248987  ... -0.895285 -2.053851 -0.708459   \n",
      "603  0.704271 -0.541532 -0.556178  ... -0.514845  0.013471  0.345506   \n",
      "\n",
      "           35        36        37        38        39        40        41  \n",
      "0   -0.667995  0.316746 -0.029695  0.000000  0.000191 -0.168218 -0.000251  \n",
      "1    0.611950  0.354570 -0.182066  0.000000 -0.208689 -0.194650 -0.138971  \n",
      "2    1.398423 -1.077949 -0.160534  0.000000  0.022644 -0.133896  0.268145  \n",
      "3    0.904496  0.527108  0.017963 -0.042088 -0.151146 -0.274399 -0.637427  \n",
      "4    1.166488  0.115585 -0.074791 -0.133634  0.019775 -0.192592  0.295620  \n",
      "..        ...       ...       ...       ...       ...       ...       ...  \n",
      "599 -0.492813 -0.189030 -0.121792  0.000000 -0.070342 -0.514645 -0.923504  \n",
      "600 -0.090101  0.107387  0.298188  0.245337  0.301274  0.638392  0.971973  \n",
      "601  2.349932  0.673580  0.020718  0.043830 -0.072263  0.244126  0.383435  \n",
      "602 -0.883196 -0.641112  0.160654  0.000000  0.241441 -0.846828 -4.534240  \n",
      "603  1.790447  0.125257  0.167975 -0.121523  0.080734  0.507183  1.247483  \n",
      "\n",
      "[604 rows x 42 columns]\n",
      "0      5.576498\n",
      "1      6.321703\n",
      "2      5.670336\n",
      "3      6.116715\n",
      "4      5.461830\n",
      "         ...   \n",
      "599    5.583143\n",
      "600    5.810373\n",
      "601    6.119355\n",
      "602    5.716324\n",
      "603    6.041780\n",
      "Name: 0, Length: 604, dtype: float64\n"
     ]
    }
   ],
   "source": [
    "md = pd.read_excel(io='CCLE metabolomics dataset.xlsx',sheet_name=\"All\")\n",
    "mt = md.drop(['Tissue', 'Medium','Culture'], axis=1)\n",
    "hm = pd.read_csv('GCP_proteomics_remapped.csv')\n",
    "merge_tb = mt.merge(hm,how='inner',left_on='CCL', right_on='Cell Line')\n",
    "MET = merge_tb.iloc[:,1:226]\n",
    "GCP = merge_tb.iloc[:,227:269]\n",
    "\n",
    "GCP = np.nan_to_num(GCP, nan=0)\n",
    "MET = np.nan_to_num(MET, nan=0)\n",
    "Xtrain, Xtest, Ytrain, Ytest =train_test_split(GCP, MET, test_size=0.3, random_state=0)\n",
    "df_Xtrain = pd.DataFrame(Xtrain)\n",
    "df_Ytrain = pd.DataFrame(Ytrain)\n",
    "print(df_Xtrain)\n",
    "print(df_Ytrain[0])"
   ]
  },
  {
   "cell_type": "code",
   "execution_count": 5,
   "metadata": {},
   "outputs": [
    {
     "data": {
      "image/png": "[encoded data removed]",
      "text/plain": [
       "<Figure size 576x396 with 1 Axes>"
      ]
     },
     "metadata": {},
     "output_type": "display_data"
    },
    {
     "data": {
      "text/plain": [
       "<matplotlib.axes._subplots.AxesSubplot at 0x7fdc95643df0>"
      ]
     },
     "execution_count": 5,
     "metadata": {},
     "output_type": "execute_result"
    }
   ],
   "source": [
    "## GCP_to_MET\n",
    "\n",
    "alphas = np.logspace(10**-6, 1, 10)\n",
    "scores = np.empty_like(alphas)\n",
    "\n",
    "model = LassoCV(alphas=alphas)\n",
    "visualizer = AlphaSelection(model)\n",
    "\n",
    "visualizer.fit(df_Xtrain,df_Ytrain[0])\n",
    "visualizer.show()"
   ]
  },
  {
   "cell_type": "code",
   "execution_count": null,
   "metadata": {},
   "outputs": [],
   "source": []
  }
 ],
 "metadata": {
  "kernelspec": {
   "display_name": "Python 3",
   "language": "python",
   "name": "python3"
  },
  "language_info": {
   "codemirror_mode": {
    "name": "ipython",
    "version": 3
   },
   "file_extension": ".py",
   "mimetype": "text/x-python",
   "name": "python",
   "nbconvert_exporter": "python",
   "pygments_lexer": "ipython3",
   "version": "3.8.3"
  }
 },
 "nbformat": 4,
 "nbformat_minor": 4
}
