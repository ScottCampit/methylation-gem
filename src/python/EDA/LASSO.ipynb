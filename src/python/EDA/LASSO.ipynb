{
 "cells": [
  {
   "cell_type": "code",
   "execution_count": 1,
   "metadata": {},
   "outputs": [],
   "source": [
    "import numpy as np\n",
    "import pandas as pd\n",
    "from sklearn.model_selection import train_test_split\n",
    "from sklearn import linear_model\n",
    "from scipy.stats import pearsonr\n",
    "from sklearn.metrics import mean_squared_error\n",
    "from sklearn.metrics import mean_absolute_error\n",
    "from sklearn.model_selection import KFold\n",
    "from sklearn.linear_model import LassoCV\n",
    "from sklearn.linear_model import MultiTaskLassoCV\n",
    "from yellowbrick.datasets import load_concrete\n",
    "from yellowbrick.regressor import AlphaSelection\n",
    "from yellowbrick.regressor.alphas import alphas\n",
    "\n",
    "\n",
    "\n"
   ]
  },
  {
   "cell_type": "code",
   "execution_count": 2,
   "metadata": {},
   "outputs": [],
   "source": [
    "md = pd.read_excel(io='CCLE metabolomics dataset.xlsx',sheet_name=\"All\")\n",
    "mt = md.drop(['Tissue', 'Medium','Culture'], axis=1)\n",
    "hm = pd.read_csv('GCP_proteomics_remapped.csv')\n",
    "merge_tb = mt.merge(hm,how='inner',left_on='CCL', right_on='Cell Line')\n",
    "MET = merge_tb.iloc[:,1:226]\n",
    "GCP = merge_tb.iloc[:,227:269]\n",
    "\n",
    "GCP = np.nan_to_num(GCP, nan=0)\n",
    "MET = np.nan_to_num(MET, nan=0)\n",
    "Xtrain, Xtest, Ytrain, Ytest =train_test_split(GCP, MET, test_size=0.3, random_state=0)\n",
    "# df_Xtrain = pd.DataFrame(Xtrain)\n",
    "# df_Ytrain = pd.DataFrame(Ytrain)\n",
    "\n"
   ]
  },
  {
   "cell_type": "code",
   "execution_count": 3,
   "metadata": {},
   "outputs": [
    {
     "name": "stdout",
     "output_type": "stream",
     "text": [
      "[0.15690549625435365, 0.1568768009563384, 0.1565983665118773, 0.15455604403226686, 0.15037133539544123, 0.15243451117552742, 0.15288557559058466, 0.15288557559058466, 0.15288557559058466, 0.15288557559058466, 0.15288557559058466, 0.15288557559058466, 0.15288557559058466, 0.15288557559058466, 0.15288557559058466, 0.15288557559058466]\n",
      "0.01\n"
     ]
    }
   ],
   "source": [
    "## GCP_to_MET\n",
    "\n",
    "# Tuning the alpha\n",
    "alphas = [10**-6, 10**-5,10**-4,10**-3,10**-2,10**-1,1,2,3,4,5,6,7,8,9,10]\n",
    "mdl = list()\n",
    "error = list()\n",
    "for i,a in enumerate(alphas):\n",
    "    x=linear_model.Lasso(alpha=a).fit(Xtrain, Ytrain)\n",
    "#     print(x)\n",
    "    mdl.append(x)\n",
    "    ypred = mdl[i].predict(Xtest)\n",
    "#     print(ypred)\n",
    "    error.append(mean_squared_error(ypred,Ytest))\n",
    "print(error)\n",
    "minmse_index = error.index(min(error))\n",
    "best_alpha = alphas[minmse_index]\n",
    "print(best_alpha)"
   ]
  },
  {
   "cell_type": "code",
   "execution_count": 4,
   "metadata": {},
   "outputs": [
    {
     "name": "stdout",
     "output_type": "stream",
     "text": [
      "225\n",
      "42\n"
     ]
    }
   ],
   "source": [
    "GCP2MET_models = []\n",
    "for i in range(Ytrain.shape[1]):\n",
    "    mdl_G2M =linear_model.Lasso(alpha=best_alpha).fit(Xtrain, Ytrain[:, i])\n",
    "    GCP2MET_models.append(mdl_G2M)\n",
    "print(len(GCP2MET_models))\n",
    "\n",
    "\n",
    "MET2GCP_models = []\n",
    "\n",
    "for j in range(Xtrain.shape[1]):\n",
    "    mdl_M2G = linear_model.Lasso(alpha=best_alpha).fit(Ytrain, Xtrain[:,j])\n",
    "    MET2GCP_models.append(mdl_M2G)\n",
    "print(len(MET2GCP_models))"
   ]
  },
  {
   "cell_type": "code",
   "execution_count": 5,
   "metadata": {},
   "outputs": [
    {
     "name": "stdout",
     "output_type": "stream",
     "text": [
      "     GCP2MET_models\n",
      "0          0.101491\n",
      "1          0.104198\n",
      "2          0.212115\n",
      "3          0.117747\n",
      "4          0.096323\n",
      "..              ...\n",
      "220        0.155878\n",
      "221        0.169268\n",
      "222        0.257659\n",
      "223        0.326099\n",
      "224        0.258227\n",
      "\n",
      "[225 rows x 1 columns]\n"
     ]
    }
   ],
   "source": [
    "def evaluate_models(models, Xtest, Ytest):\n",
    "    \"\"\"\n",
    "    evaluate_models returns results from the model predictions, including the pearson\n",
    "    correlation coefficient, p-Values, and MSE.\n",
    "\n",
    "    :param models:         A list of scikit-learn model objects.\n",
    "    :param Xtest:          A numpy array or pandas dataframe containing validation set input data.\n",
    "    :param Ytest:          A numpy array or pandas dataframe containing validation set output data.\n",
    "    :return pred_resul:    A dictionary containing the final MSE, pValue, or rValue.\n",
    "    \n",
    "    \"\"\"\n",
    "    \n",
    "    predictions = []\n",
    "    rValue = list()\n",
    "    pValue = list()\n",
    "    MSE = list()\n",
    "\n",
    "    for i in range(len(models)):\n",
    "        mdl = models[i]\n",
    "        Ypred = mdl.predict(Xtest)\n",
    "        predictions.append(Ypred)   \n",
    "        r, pvalue = pearsonr(Ypred, Ytest[:, i])\n",
    "        rValue.append(r)\n",
    "        pValue.append(pvalue)\n",
    "        mse = mean_squared_error(Ypred, Ytest[:, i])\n",
    "        MSE.append(mse)\n",
    "#     print(Ypred)\n",
    "#     print(Xtest)\n",
    "    df_MSE = pd.DataFrame(MSE)\n",
    "    df_pValue = pd.DataFrame(pValue)\n",
    "    df_rValue = pd.DataFrame(rValue)\n",
    "    \n",
    "    return df_MSE, df_pValue, df_rValue\n",
    "\n",
    "mse1,p1,pearson1 = evaluate_models(GCP2MET_models, Xtest, Ytest)\n",
    "mse1.columns = [\"GCP2MET_models\"]\n",
    "print(mse1)"
   ]
  },
  {
   "cell_type": "code",
   "execution_count": 6,
   "metadata": {},
   "outputs": [
    {
     "name": "stdout",
     "output_type": "stream",
     "text": [
      "           0         1         2         3         4         5         6    \\\n",
      "mse1  0.089575  0.094861  0.296596  0.100531  0.090906  0.129799  0.042273   \n",
      "mse2  0.106462  0.099635  0.302412  0.120697  0.094360  0.142247  0.036579   \n",
      "mse3  0.093020  0.096180  0.252817  0.121182  0.085328  0.131163  0.037862   \n",
      "\n",
      "           7         8         9    ...       215       216       217  \\\n",
      "mse1  0.071508  0.218492  0.097096  ...  0.134649  0.193515  0.180864   \n",
      "mse2  0.065053  0.267308  0.107793  ...  0.096789  0.184076  0.178244   \n",
      "mse3  0.064426  0.180017  0.092881  ...  0.117294  0.195196  0.173290   \n",
      "\n",
      "           218       219       220       221       222       223       224  \n",
      "mse1  0.205080  0.156296  0.124726  0.163350  0.278675  0.328726  0.269641  \n",
      "mse2  0.231610  0.180965  0.152861  0.181191  0.285273  0.363526  0.272564  \n",
      "mse3  0.239074  0.188212  0.158302  0.190638  0.272416  0.310359  0.237598  \n",
      "\n",
      "[3 rows x 225 columns]\n"
     ]
    }
   ],
   "source": [
    "kf = KFold(n_splits=3)\n",
    "\n",
    "KFold(n_splits=3, random_state=None, shuffle=True)\n",
    "mse_result = pd.DataFrame()\n",
    "pvalue_result = pd.DataFrame()\n",
    "rvalue_result = pd.DataFrame()\n",
    "for train_index, test_index in kf.split(Xtrain, Ytrain):\n",
    "#     print(\"TRAIN:\", train_index, \"TEST:\", test_index)\n",
    "    X_train, X_test = Xtrain[train_index], Xtrain[test_index]\n",
    "    y_train, y_test = Ytrain[train_index], Ytrain[test_index]\n",
    "    v_GCP2MET_models = []\n",
    "    final_metrics = []\n",
    "    for i in range(y_train.shape[1]):\n",
    "        mdl_G2M = linear_model.Lasso(alpha=best_alpha).fit(X_train, y_train[:, i])\n",
    "        v_GCP2MET_models.append(mdl_G2M)\n",
    "        df_MSE, df_pValue, df_rValue = evaluate_models(v_GCP2MET_models, X_test, y_test)\n",
    "    mse_result = pd.concat([mse_result,df_MSE],axis = 1)\n",
    "    pvalue_result = pd.concat([pvalue_result,df_pValue],axis = 1)\n",
    "    rvalue_result = pd.concat([rvalue_result,df_rValue],axis = 1)\n",
    "mse_result.columns = [\"mse1\",\"mse2\",\"mse3\"]\n",
    "mse_result = mse_result.T\n",
    "print(mse_result)   "
   ]
  },
  {
   "cell_type": "code",
   "execution_count": 7,
   "metadata": {},
   "outputs": [
    {
     "name": "stdout",
     "output_type": "stream",
     "text": [
      "     GCP2MET_models  v_GCP2MET_models\n",
      "0          0.101491          0.089575\n",
      "1          0.104198          0.094861\n",
      "2          0.212115          0.252817\n",
      "3          0.117747          0.100531\n",
      "4          0.096323          0.085328\n",
      "..              ...               ...\n",
      "220        0.155878          0.124726\n",
      "221        0.169268          0.163350\n",
      "222        0.257659          0.272416\n",
      "223        0.326099          0.310359\n",
      "224        0.258227          0.237598\n",
      "\n",
      "[225 rows x 2 columns]\n"
     ]
    }
   ],
   "source": [
    "minMSE = mse_result.idxmin()\n",
    "# print(minMSE)\n",
    "\n",
    "mse_min = pd.DataFrame()\n",
    "MSE_min = list()\n",
    "for index in mse_result:\n",
    "    v = mse_result[index][minMSE[index]]\n",
    "    MSE_min.append(v)\n",
    "#     print(v)\n",
    "mse_min = pd.DataFrame(MSE_min)\n",
    "mse_min.columns = [\"v_GCP2MET_models\"]\n",
    "# print(mse_min)\n",
    "raw = mse1.join(mse_min)\n",
    "print(raw)"
   ]
  },
  {
   "cell_type": "code",
   "execution_count": 8,
   "metadata": {},
   "outputs": [
    {
     "name": "stdout",
     "output_type": "stream",
     "text": [
      "[Lasso(alpha=0.01), Lasso(alpha=0.01), Lasso(alpha=0.01), Lasso(alpha=0.01), Lasso(alpha=0.01), Lasso(alpha=0.01), Lasso(alpha=0.01), Lasso(alpha=0.01), Lasso(alpha=0.01), Lasso(alpha=0.01), Lasso(alpha=0.01), Lasso(alpha=0.01), Lasso(alpha=0.01), Lasso(alpha=0.01), Lasso(alpha=0.01), Lasso(alpha=0.01), Lasso(alpha=0.01), Lasso(alpha=0.01), Lasso(alpha=0.01), Lasso(alpha=0.01), Lasso(alpha=0.01), Lasso(alpha=0.01), Lasso(alpha=0.01), Lasso(alpha=0.01), Lasso(alpha=0.01), Lasso(alpha=0.01), Lasso(alpha=0.01), Lasso(alpha=0.01), Lasso(alpha=0.01), Lasso(alpha=0.01), Lasso(alpha=0.01), Lasso(alpha=0.01), Lasso(alpha=0.01), Lasso(alpha=0.01), Lasso(alpha=0.01), Lasso(alpha=0.01), Lasso(alpha=0.01), Lasso(alpha=0.01), Lasso(alpha=0.01), Lasso(alpha=0.01), Lasso(alpha=0.01), Lasso(alpha=0.01), Lasso(alpha=0.01), Lasso(alpha=0.01), Lasso(alpha=0.01), Lasso(alpha=0.01), Lasso(alpha=0.01), Lasso(alpha=0.01), Lasso(alpha=0.01), Lasso(alpha=0.01), Lasso(alpha=0.01), Lasso(alpha=0.01), Lasso(alpha=0.01), Lasso(alpha=0.01), Lasso(alpha=0.01), Lasso(alpha=0.01), Lasso(alpha=0.01), Lasso(alpha=0.01), Lasso(alpha=0.01), Lasso(alpha=0.01), Lasso(alpha=0.01), Lasso(alpha=0.01), Lasso(alpha=0.01), Lasso(alpha=0.01), Lasso(alpha=0.01), Lasso(alpha=0.01), Lasso(alpha=0.01), Lasso(alpha=0.01), Lasso(alpha=0.01), Lasso(alpha=0.01), Lasso(alpha=0.01), Lasso(alpha=0.01), Lasso(alpha=0.01), Lasso(alpha=0.01), Lasso(alpha=0.01), Lasso(alpha=0.01), Lasso(alpha=0.01), Lasso(alpha=0.01), Lasso(alpha=0.01), Lasso(alpha=0.01), Lasso(alpha=0.01), Lasso(alpha=0.01), Lasso(alpha=0.01), Lasso(alpha=0.01), Lasso(alpha=0.01), Lasso(alpha=0.01), Lasso(alpha=0.01), Lasso(alpha=0.01), Lasso(alpha=0.01), Lasso(alpha=0.01), Lasso(alpha=0.01), Lasso(alpha=0.01), Lasso(alpha=0.01), Lasso(alpha=0.01), Lasso(alpha=0.01), Lasso(alpha=0.01), Lasso(alpha=0.01), Lasso(alpha=0.01), Lasso(alpha=0.01), Lasso(alpha=0.01), Lasso(alpha=0.01), Lasso(alpha=0.01), Lasso(alpha=0.01), Lasso(alpha=0.01), Lasso(alpha=0.01), Lasso(alpha=0.01), Lasso(alpha=0.01), Lasso(alpha=0.01), Lasso(alpha=0.01), Lasso(alpha=0.01), Lasso(alpha=0.01), Lasso(alpha=0.01), Lasso(alpha=0.01), Lasso(alpha=0.01), Lasso(alpha=0.01), Lasso(alpha=0.01), Lasso(alpha=0.01), Lasso(alpha=0.01), Lasso(alpha=0.01), Lasso(alpha=0.01), Lasso(alpha=0.01), Lasso(alpha=0.01), Lasso(alpha=0.01), Lasso(alpha=0.01), Lasso(alpha=0.01), Lasso(alpha=0.01), Lasso(alpha=0.01), Lasso(alpha=0.01), Lasso(alpha=0.01), Lasso(alpha=0.01), Lasso(alpha=0.01), Lasso(alpha=0.01), Lasso(alpha=0.01), Lasso(alpha=0.01), Lasso(alpha=0.01), Lasso(alpha=0.01), Lasso(alpha=0.01), Lasso(alpha=0.01), Lasso(alpha=0.01), Lasso(alpha=0.01), Lasso(alpha=0.01), Lasso(alpha=0.01), Lasso(alpha=0.01), Lasso(alpha=0.01), Lasso(alpha=0.01), Lasso(alpha=0.01), Lasso(alpha=0.01), Lasso(alpha=0.01), Lasso(alpha=0.01), Lasso(alpha=0.01), Lasso(alpha=0.01), Lasso(alpha=0.01), Lasso(alpha=0.01), Lasso(alpha=0.01), Lasso(alpha=0.01), Lasso(alpha=0.01), Lasso(alpha=0.01), Lasso(alpha=0.01), Lasso(alpha=0.01), Lasso(alpha=0.01), Lasso(alpha=0.01), Lasso(alpha=0.01), Lasso(alpha=0.01), Lasso(alpha=0.01), Lasso(alpha=0.01), Lasso(alpha=0.01), Lasso(alpha=0.01), Lasso(alpha=0.01), Lasso(alpha=0.01), Lasso(alpha=0.01), Lasso(alpha=0.01), Lasso(alpha=0.01), Lasso(alpha=0.01), Lasso(alpha=0.01), Lasso(alpha=0.01), Lasso(alpha=0.01), Lasso(alpha=0.01), Lasso(alpha=0.01), Lasso(alpha=0.01), Lasso(alpha=0.01), Lasso(alpha=0.01), Lasso(alpha=0.01), Lasso(alpha=0.01), Lasso(alpha=0.01), Lasso(alpha=0.01), Lasso(alpha=0.01), Lasso(alpha=0.01), Lasso(alpha=0.01), Lasso(alpha=0.01), Lasso(alpha=0.01), Lasso(alpha=0.01), Lasso(alpha=0.01), Lasso(alpha=0.01), Lasso(alpha=0.01), Lasso(alpha=0.01), Lasso(alpha=0.01), Lasso(alpha=0.01), Lasso(alpha=0.01), Lasso(alpha=0.01), Lasso(alpha=0.01), Lasso(alpha=0.01), Lasso(alpha=0.01), Lasso(alpha=0.01), Lasso(alpha=0.01), Lasso(alpha=0.01), Lasso(alpha=0.01), Lasso(alpha=0.01), Lasso(alpha=0.01), Lasso(alpha=0.01), Lasso(alpha=0.01), Lasso(alpha=0.01), Lasso(alpha=0.01), Lasso(alpha=0.01), Lasso(alpha=0.01), Lasso(alpha=0.01), Lasso(alpha=0.01), Lasso(alpha=0.01), Lasso(alpha=0.01), Lasso(alpha=0.01), Lasso(alpha=0.01), Lasso(alpha=0.01), Lasso(alpha=0.01), Lasso(alpha=0.01), Lasso(alpha=0.01), Lasso(alpha=0.01)]\n"
     ]
    }
   ],
   "source": [
    "new_model = list()\n",
    "for index, row in raw.iterrows():\n",
    "    if row['GCP2MET_models'] < row['v_GCP2MET_models']:\n",
    "        \n",
    "        new_model.append(GCP2MET_models[index])\n",
    "    else:\n",
    "        new_model.append(v_GCP2MET_models[index])\n",
    "        \n",
    "    \n",
    "print(new_model)"
   ]
  },
  {
   "cell_type": "code",
   "execution_count": null,
   "metadata": {},
   "outputs": [],
   "source": []
  },
  {
   "cell_type": "code",
   "execution_count": 12,
   "metadata": {},
   "outputs": [
    {
     "name": "stdout",
     "output_type": "stream",
     "text": [
      "            0         1         2         3         4         5         6   \\\n",
      "mse1  0.175227  0.380132  0.588737  1.051244  0.255749  0.202275  0.181518   \n",
      "mse2  0.084202  0.258606  0.237459  0.978266  0.177839  0.107370  0.138614   \n",
      "mse3  0.091701  0.185900  0.319462  1.054341  0.194316  0.108792  0.159261   \n",
      "\n",
      "            7         8         9   ...        32        33        34  \\\n",
      "mse1  0.315831  0.487928  0.406070  ...  0.837352  0.870477  0.683326   \n",
      "mse2  0.226162  0.393376  0.260588  ...  1.080634  1.303954  0.837324   \n",
      "mse3  0.236521  0.418744  0.288605  ...  0.933157  1.076697  0.992893   \n",
      "\n",
      "            35        36        37        38        39        40        41  \n",
      "mse1  0.912046  0.376208  0.041114  1.344137  0.088397  0.240640  0.542718  \n",
      "mse2  0.920801  0.435253  0.042624  2.027280  0.134786  0.118106  0.557401  \n",
      "mse3  1.177404  0.395815  0.044395  1.224501  0.101151  0.195334  0.645212  \n",
      "\n",
      "[3 rows x 42 columns]\n"
     ]
    }
   ],
   "source": [
    "## MET TO GCP\n",
    "mse2,p2,pearson2 = evaluate_models(MET2GCP_models, Ytest, Xtest)\n",
    "mse2.columns = [\"MET2GCP_models\"]\n",
    "\n",
    "kf = KFold(n_splits=3)\n",
    "KFold(n_splits=3, random_state=None, shuffle=True)\n",
    "mse2_result = pd.DataFrame()\n",
    "# pvalue_result = pd.DataFrame()\n",
    "# rvalue_result = pd.DataFrame()\n",
    "for train_index, test_index in kf.split(Xtrain, Ytrain):\n",
    "    X_train, X_test = Xtrain[train_index], Xtrain[test_index]\n",
    "    y_train, y_test = Ytrain[train_index], Ytrain[test_index]\n",
    "    v_MET2GCP_models = []\n",
    "    metrics = []\n",
    "    for i in range(X_train.shape[1]):\n",
    "        mdl_M2G = linear_model.Lasso(alpha=best_alpha).fit(y_train, X_train[:, i])\n",
    "        v_MET2GCP_models.append(mdl_M2G)\n",
    "        df_MSE, df_pValue, df_rValue = evaluate_models(v_MET2GCP_models, y_test, X_test)\n",
    "    mse2_result = pd.concat([mse2_result,df_MSE],axis = 1)\n",
    "#     pvalue_result = pd.concat([pvalue_result,df_pValue],axis = 1)\n",
    "#     rvalue_result = pd.concat([rvalue_result,df_rValue],axis = 1)\n",
    "mse2_result.columns = [\"mse1\",\"mse2\",\"mse3\"]\n",
    "mse2_result = mse2_result.T\n",
    "# print(mse2_result) "
   ]
  },
  {
   "cell_type": "code",
   "execution_count": 14,
   "metadata": {},
   "outputs": [
    {
     "name": "stdout",
     "output_type": "stream",
     "text": [
      "[Lasso(alpha=0.01), Lasso(alpha=0.01), Lasso(alpha=0.01), Lasso(alpha=0.01), Lasso(alpha=0.01), Lasso(alpha=0.01), Lasso(alpha=0.01), Lasso(alpha=0.01), Lasso(alpha=0.01), Lasso(alpha=0.01), Lasso(alpha=0.01), Lasso(alpha=0.01), Lasso(alpha=0.01), Lasso(alpha=0.01), Lasso(alpha=0.01), Lasso(alpha=0.01), Lasso(alpha=0.01), Lasso(alpha=0.01), Lasso(alpha=0.01), Lasso(alpha=0.01), Lasso(alpha=0.01), Lasso(alpha=0.01), Lasso(alpha=0.01), Lasso(alpha=0.01), Lasso(alpha=0.01), Lasso(alpha=0.01), Lasso(alpha=0.01), Lasso(alpha=0.01), Lasso(alpha=0.01), Lasso(alpha=0.01), Lasso(alpha=0.01), Lasso(alpha=0.01), Lasso(alpha=0.01), Lasso(alpha=0.01), Lasso(alpha=0.01), Lasso(alpha=0.01), Lasso(alpha=0.01), Lasso(alpha=0.01), Lasso(alpha=0.01), Lasso(alpha=0.01), Lasso(alpha=0.01), Lasso(alpha=0.01), Lasso(alpha=0.01), Lasso(alpha=0.01), Lasso(alpha=0.01), Lasso(alpha=0.01), Lasso(alpha=0.01), Lasso(alpha=0.01), Lasso(alpha=0.01), Lasso(alpha=0.01), Lasso(alpha=0.01), Lasso(alpha=0.01), Lasso(alpha=0.01), Lasso(alpha=0.01), Lasso(alpha=0.01), Lasso(alpha=0.01), Lasso(alpha=0.01), Lasso(alpha=0.01), Lasso(alpha=0.01), Lasso(alpha=0.01), Lasso(alpha=0.01), Lasso(alpha=0.01), Lasso(alpha=0.01), Lasso(alpha=0.01), Lasso(alpha=0.01), Lasso(alpha=0.01), Lasso(alpha=0.01), Lasso(alpha=0.01), Lasso(alpha=0.01), Lasso(alpha=0.01), Lasso(alpha=0.01), Lasso(alpha=0.01), Lasso(alpha=0.01), Lasso(alpha=0.01), Lasso(alpha=0.01), Lasso(alpha=0.01), Lasso(alpha=0.01), Lasso(alpha=0.01), Lasso(alpha=0.01), Lasso(alpha=0.01), Lasso(alpha=0.01), Lasso(alpha=0.01), Lasso(alpha=0.01), Lasso(alpha=0.01), Lasso(alpha=0.01), Lasso(alpha=0.01), Lasso(alpha=0.01), Lasso(alpha=0.01), Lasso(alpha=0.01), Lasso(alpha=0.01), Lasso(alpha=0.01), Lasso(alpha=0.01), Lasso(alpha=0.01), Lasso(alpha=0.01), Lasso(alpha=0.01), Lasso(alpha=0.01), Lasso(alpha=0.01), Lasso(alpha=0.01), Lasso(alpha=0.01), Lasso(alpha=0.01), Lasso(alpha=0.01), Lasso(alpha=0.01), Lasso(alpha=0.01), Lasso(alpha=0.01), Lasso(alpha=0.01), Lasso(alpha=0.01), Lasso(alpha=0.01), Lasso(alpha=0.01), Lasso(alpha=0.01), Lasso(alpha=0.01), Lasso(alpha=0.01), Lasso(alpha=0.01), Lasso(alpha=0.01), Lasso(alpha=0.01), Lasso(alpha=0.01), Lasso(alpha=0.01), Lasso(alpha=0.01), Lasso(alpha=0.01), Lasso(alpha=0.01), Lasso(alpha=0.01), Lasso(alpha=0.01), Lasso(alpha=0.01), Lasso(alpha=0.01), Lasso(alpha=0.01), Lasso(alpha=0.01), Lasso(alpha=0.01), Lasso(alpha=0.01), Lasso(alpha=0.01), Lasso(alpha=0.01), Lasso(alpha=0.01), Lasso(alpha=0.01), Lasso(alpha=0.01), Lasso(alpha=0.01), Lasso(alpha=0.01), Lasso(alpha=0.01), Lasso(alpha=0.01), Lasso(alpha=0.01), Lasso(alpha=0.01), Lasso(alpha=0.01), Lasso(alpha=0.01), Lasso(alpha=0.01), Lasso(alpha=0.01), Lasso(alpha=0.01), Lasso(alpha=0.01), Lasso(alpha=0.01), Lasso(alpha=0.01), Lasso(alpha=0.01), Lasso(alpha=0.01), Lasso(alpha=0.01), Lasso(alpha=0.01), Lasso(alpha=0.01), Lasso(alpha=0.01), Lasso(alpha=0.01), Lasso(alpha=0.01), Lasso(alpha=0.01), Lasso(alpha=0.01), Lasso(alpha=0.01), Lasso(alpha=0.01), Lasso(alpha=0.01), Lasso(alpha=0.01), Lasso(alpha=0.01), Lasso(alpha=0.01), Lasso(alpha=0.01), Lasso(alpha=0.01), Lasso(alpha=0.01), Lasso(alpha=0.01), Lasso(alpha=0.01), Lasso(alpha=0.01), Lasso(alpha=0.01), Lasso(alpha=0.01), Lasso(alpha=0.01), Lasso(alpha=0.01), Lasso(alpha=0.01), Lasso(alpha=0.01), Lasso(alpha=0.01), Lasso(alpha=0.01), Lasso(alpha=0.01), Lasso(alpha=0.01), Lasso(alpha=0.01), Lasso(alpha=0.01), Lasso(alpha=0.01), Lasso(alpha=0.01), Lasso(alpha=0.01), Lasso(alpha=0.01), Lasso(alpha=0.01), Lasso(alpha=0.01), Lasso(alpha=0.01), Lasso(alpha=0.01), Lasso(alpha=0.01), Lasso(alpha=0.01), Lasso(alpha=0.01), Lasso(alpha=0.01), Lasso(alpha=0.01), Lasso(alpha=0.01), Lasso(alpha=0.01), Lasso(alpha=0.01), Lasso(alpha=0.01), Lasso(alpha=0.01), Lasso(alpha=0.01), Lasso(alpha=0.01), Lasso(alpha=0.01), Lasso(alpha=0.01), Lasso(alpha=0.01), Lasso(alpha=0.01), Lasso(alpha=0.01), Lasso(alpha=0.01), Lasso(alpha=0.01), Lasso(alpha=0.01), Lasso(alpha=0.01), Lasso(alpha=0.01), Lasso(alpha=0.01), Lasso(alpha=0.01), Lasso(alpha=0.01), Lasso(alpha=0.01), Lasso(alpha=0.01), Lasso(alpha=0.01), Lasso(alpha=0.01), Lasso(alpha=0.01), Lasso(alpha=0.01), Lasso(alpha=0.01), Lasso(alpha=0.01), Lasso(alpha=0.01), Lasso(alpha=0.01), Lasso(alpha=0.01), Lasso(alpha=0.01)]\n"
     ]
    }
   ],
   "source": [
    "minMSE2 = mse2_result.idxmin()\n",
    "# print(minMSE)\n",
    "\n",
    "mse2_min = pd.DataFrame()\n",
    "MSE2_min = list()\n",
    "for index in mse2_result:\n",
    "    v = mse2_result[index][minMSE2[index]]\n",
    "    MSE2_min.append(v)\n",
    "#     print(v)\n",
    "mse2_min = pd.DataFrame(MSE2_min)\n",
    "mse2_min.columns = [\"v_GCP2MET_models\"]\n",
    "# print(mse2_min)\n",
    "raw2 = mse2.join(mse2_min)\n",
    "# print(raw2)\n",
    "\n",
    "new_MET2GCP = list()\n",
    "for index, row in raw.iterrows():\n",
    "    if row['GCP2MET_models'] < row['v_GCP2MET_models']:\n",
    "        \n",
    "        new_MET2GCP.append(GCP2MET_models[index])\n",
    "    else:\n",
    "        new_MET2GCP.append(v_GCP2MET_models[index])\n",
    "        \n",
    "    \n",
    "print(new_MET2GCP)"
   ]
  },
  {
   "cell_type": "code",
   "execution_count": null,
   "metadata": {},
   "outputs": [],
   "source": []
  }
 ],
 "metadata": {
  "kernelspec": {
   "display_name": "Python 3",
   "language": "python",
   "name": "python3"
  },
  "language_info": {
   "codemirror_mode": {
    "name": "ipython",
    "version": 3
   },
   "file_extension": ".py",
   "mimetype": "text/x-python",
   "name": "python",
   "nbconvert_exporter": "python",
   "pygments_lexer": "ipython3",
   "version": "3.8.3"
  }
 },
 "nbformat": 4,
 "nbformat_minor": 4
}
