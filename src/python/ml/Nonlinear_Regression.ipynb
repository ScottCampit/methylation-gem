{
 "cells": [
  {
   "cell_type": "markdown",
   "metadata": {
    "id": "8vfmsVyQQlYm"
   },
   "source": [
    "# Training tree-based algorithms to predict epigenomic-metabolic interactions\n",
    "**Author**: Scott Campit"
   ]
  },
  {
   "cell_type": "markdown",
   "metadata": {},
   "source": [
    "# Summary\n",
    "This notebook trains non-linear machine learning models on metabolomics and proteomics data."
   ]
  },
  {
   "cell_type": "markdown",
   "metadata": {
    "id": "uo0KkoWZSqOR"
   },
   "source": [
    "# Load datasets\n",
    "Now let's load the GCP datasets we'll be computing ratios for. Right now, we'll compute the following ratios:\n",
    "  * Cancer Cell Line Encyclopedia\n",
    "  * LeRoy et al., 2012"
   ]
  },
  {
   "cell_type": "code",
   "execution_count": 97,
   "metadata": {
    "ExecuteTime": {
     "end_time": "2020-10-06T20:42:07.391681Z",
     "start_time": "2020-10-06T20:42:03.316841Z"
    },
    "colab": {
     "base_uri": "https://localhost:8080/",
     "height": 52
    },
    "id": "jPA4YMMSSqVs",
    "outputId": "a971f421-23fb-4e5d-e148-32c0d3409b46"
   },
   "outputs": [
    {
     "name": "stdout",
     "output_type": "stream",
     "text": [
      "['Citrate' 'Isocitrate' 'Fumarate' 'NAD' 'NADP' 'Pantothenate' 'PEP'\n",
      " 'Alanine' 'Valine' 'Leucine' 'Isoleucine' 'Niacinamide'\n",
      " '1-methylnicotinamide' '3-phosphoglycerate' 'DHAP' 'Glycine' 'Serine'\n",
      " 'Methionine' 'Homocysteine' '5-adenosylhomocysteine'\n",
      " 'Alpha-ketoglutarate' 'Succinate' 'Glutamine' 'Aspartate' 'Glutamate'\n",
      " 'Cell Lines' 'index' 'Isocitrate/Citrate' 'Fumarate/Citrate'\n",
      " 'NAD/Citrate' 'NADP/Citrate' 'Pantothenate/Citrate' 'PEP/Citrate'\n",
      " 'Alanine/Citrate' 'Valine/Citrate' 'Leucine/Citrate' 'Isoleucine/Citrate'\n",
      " 'Niacinamide/Citrate' '1-methylnicotinamide/Citrate'\n",
      " '3-phosphoglycerate/Citrate' 'DHAP/Citrate' 'Glycine/Citrate'\n",
      " 'Serine/Citrate' 'Methionine/Citrate' 'Homocysteine/Citrate'\n",
      " '5-adenosylhomocysteine/Citrate' 'Alpha-ketoglutarate/Citrate'\n",
      " 'Succinate/Citrate' 'Glutamine/Citrate' 'Aspartate/Citrate'\n",
      " 'Glutamate/Citrate' 'Citrate/Isocitrate' 'Fumarate/Isocitrate'\n",
      " 'NAD/Isocitrate' 'NADP/Isocitrate' 'Pantothenate/Isocitrate'\n",
      " 'PEP/Isocitrate' 'Alanine/Isocitrate' 'Valine/Isocitrate'\n",
      " 'Leucine/Isocitrate' 'Isoleucine/Isocitrate' 'Niacinamide/Isocitrate'\n",
      " '1-methylnicotinamide/Isocitrate' '3-phosphoglycerate/Isocitrate'\n",
      " 'DHAP/Isocitrate' 'Glycine/Isocitrate' 'Serine/Isocitrate'\n",
      " 'Methionine/Isocitrate' 'Homocysteine/Isocitrate'\n",
      " '5-adenosylhomocysteine/Isocitrate' 'Alpha-ketoglutarate/Isocitrate'\n",
      " 'Succinate/Isocitrate' 'Glutamine/Isocitrate' 'Aspartate/Isocitrate'\n",
      " 'Glutamate/Isocitrate' 'Citrate/Fumarate' 'Isocitrate/Fumarate'\n",
      " 'NAD/Fumarate' 'NADP/Fumarate' 'Pantothenate/Fumarate' 'PEP/Fumarate'\n",
      " 'Alanine/Fumarate' 'Valine/Fumarate' 'Leucine/Fumarate'\n",
      " 'Isoleucine/Fumarate' 'Niacinamide/Fumarate'\n",
      " '1-methylnicotinamide/Fumarate' '3-phosphoglycerate/Fumarate'\n",
      " 'DHAP/Fumarate' 'Glycine/Fumarate' 'Serine/Fumarate'\n",
      " 'Methionine/Fumarate' 'Homocysteine/Fumarate'\n",
      " '5-adenosylhomocysteine/Fumarate' 'Alpha-ketoglutarate/Fumarate'\n",
      " 'Succinate/Fumarate' 'Glutamine/Fumarate' 'Aspartate/Fumarate'\n",
      " 'Glutamate/Fumarate' 'Citrate/NAD' 'Isocitrate/NAD' 'Fumarate/NAD'\n",
      " 'NADP/NAD' 'Pantothenate/NAD' 'PEP/NAD' 'Alanine/NAD' 'Valine/NAD'\n",
      " 'Leucine/NAD' 'Isoleucine/NAD' 'Niacinamide/NAD'\n",
      " '1-methylnicotinamide/NAD' '3-phosphoglycerate/NAD' 'DHAP/NAD'\n",
      " 'Glycine/NAD' 'Serine/NAD' 'Methionine/NAD' 'Homocysteine/NAD'\n",
      " '5-adenosylhomocysteine/NAD' 'Alpha-ketoglutarate/NAD' 'Succinate/NAD'\n",
      " 'Glutamine/NAD' 'Aspartate/NAD' 'Glutamate/NAD' 'Citrate/NADP'\n",
      " 'Isocitrate/NADP' 'Fumarate/NADP' 'NAD/NADP' 'Pantothenate/NADP'\n",
      " 'PEP/NADP' 'Alanine/NADP' 'Valine/NADP' 'Leucine/NADP' 'Isoleucine/NADP'\n",
      " 'Niacinamide/NADP' '1-methylnicotinamide/NADP' '3-phosphoglycerate/NADP'\n",
      " 'DHAP/NADP' 'Glycine/NADP' 'Serine/NADP' 'Methionine/NADP'\n",
      " 'Homocysteine/NADP' '5-adenosylhomocysteine/NADP'\n",
      " 'Alpha-ketoglutarate/NADP' 'Succinate/NADP' 'Glutamine/NADP'\n",
      " 'Aspartate/NADP' 'Glutamate/NADP' 'Citrate/Pantothenate'\n",
      " 'Isocitrate/Pantothenate' 'Fumarate/Pantothenate' 'NAD/Pantothenate'\n",
      " 'NADP/Pantothenate' 'PEP/Pantothenate' 'Alanine/Pantothenate'\n",
      " 'Valine/Pantothenate' 'Leucine/Pantothenate' 'Isoleucine/Pantothenate'\n",
      " 'Niacinamide/Pantothenate' '1-methylnicotinamide/Pantothenate'\n",
      " '3-phosphoglycerate/Pantothenate' 'DHAP/Pantothenate'\n",
      " 'Glycine/Pantothenate' 'Serine/Pantothenate' 'Methionine/Pantothenate'\n",
      " 'Homocysteine/Pantothenate' '5-adenosylhomocysteine/Pantothenate'\n",
      " 'Alpha-ketoglutarate/Pantothenate' 'Succinate/Pantothenate'\n",
      " 'Glutamine/Pantothenate' 'Aspartate/Pantothenate'\n",
      " 'Glutamate/Pantothenate' 'Citrate/PEP' 'Isocitrate/PEP' 'Fumarate/PEP'\n",
      " 'NAD/PEP' 'NADP/PEP' 'Pantothenate/PEP' 'Alanine/PEP' 'Valine/PEP'\n",
      " 'Leucine/PEP' 'Isoleucine/PEP' 'Niacinamide/PEP'\n",
      " '1-methylnicotinamide/PEP' '3-phosphoglycerate/PEP' 'DHAP/PEP'\n",
      " 'Glycine/PEP' 'Serine/PEP' 'Methionine/PEP' 'Homocysteine/PEP'\n",
      " '5-adenosylhomocysteine/PEP' 'Alpha-ketoglutarate/PEP' 'Succinate/PEP'\n",
      " 'Glutamine/PEP' 'Aspartate/PEP' 'Glutamate/PEP' 'Citrate/Alanine'\n",
      " 'Isocitrate/Alanine' 'Fumarate/Alanine' 'NAD/Alanine' 'NADP/Alanine'\n",
      " 'Pantothenate/Alanine' 'PEP/Alanine' 'Valine/Alanine' 'Leucine/Alanine'\n",
      " 'Isoleucine/Alanine' 'Niacinamide/Alanine' '1-methylnicotinamide/Alanine'\n",
      " '3-phosphoglycerate/Alanine' 'DHAP/Alanine' 'Glycine/Alanine'\n",
      " 'Serine/Alanine' 'Methionine/Alanine' 'Homocysteine/Alanine'\n",
      " '5-adenosylhomocysteine/Alanine' 'Alpha-ketoglutarate/Alanine'\n",
      " 'Succinate/Alanine' 'Glutamine/Alanine' 'Aspartate/Alanine'\n",
      " 'Glutamate/Alanine' 'Citrate/Valine' 'Isocitrate/Valine'\n",
      " 'Fumarate/Valine' 'NAD/Valine' 'NADP/Valine' 'Pantothenate/Valine'\n",
      " 'PEP/Valine' 'Alanine/Valine' 'Leucine/Valine' 'Isoleucine/Valine'\n",
      " 'Niacinamide/Valine' '1-methylnicotinamide/Valine'\n",
      " '3-phosphoglycerate/Valine' 'DHAP/Valine' 'Glycine/Valine'\n",
      " 'Serine/Valine' 'Methionine/Valine' 'Homocysteine/Valine'\n",
      " '5-adenosylhomocysteine/Valine' 'Alpha-ketoglutarate/Valine'\n",
      " 'Succinate/Valine' 'Glutamine/Valine' 'Aspartate/Valine'\n",
      " 'Glutamate/Valine' 'Citrate/Leucine' 'Isocitrate/Leucine'\n",
      " 'Fumarate/Leucine' 'NAD/Leucine' 'NADP/Leucine' 'Pantothenate/Leucine'\n",
      " 'PEP/Leucine' 'Alanine/Leucine' 'Valine/Leucine' 'Isoleucine/Leucine'\n",
      " 'Niacinamide/Leucine' '1-methylnicotinamide/Leucine'\n",
      " '3-phosphoglycerate/Leucine' 'DHAP/Leucine' 'Glycine/Leucine'\n",
      " 'Serine/Leucine' 'Methionine/Leucine' 'Homocysteine/Leucine'\n",
      " '5-adenosylhomocysteine/Leucine' 'Alpha-ketoglutarate/Leucine'\n",
      " 'Succinate/Leucine' 'Glutamine/Leucine' 'Aspartate/Leucine'\n",
      " 'Glutamate/Leucine' 'Citrate/Isoleucine' 'Isocitrate/Isoleucine'\n",
      " 'Fumarate/Isoleucine' 'NAD/Isoleucine' 'NADP/Isoleucine'\n",
      " 'Pantothenate/Isoleucine' 'PEP/Isoleucine' 'Alanine/Isoleucine'\n",
      " 'Valine/Isoleucine' 'Leucine/Isoleucine' 'Niacinamide/Isoleucine'\n",
      " '1-methylnicotinamide/Isoleucine' '3-phosphoglycerate/Isoleucine'\n",
      " 'DHAP/Isoleucine' 'Glycine/Isoleucine' 'Serine/Isoleucine'\n",
      " 'Methionine/Isoleucine' 'Homocysteine/Isoleucine'\n",
      " '5-adenosylhomocysteine/Isoleucine' 'Alpha-ketoglutarate/Isoleucine'\n",
      " 'Succinate/Isoleucine' 'Glutamine/Isoleucine' 'Aspartate/Isoleucine'\n",
      " 'Glutamate/Isoleucine' 'Citrate/Niacinamide' 'Isocitrate/Niacinamide'\n",
      " 'Fumarate/Niacinamide' 'NAD/Niacinamide' 'NADP/Niacinamide'\n",
      " 'Pantothenate/Niacinamide' 'PEP/Niacinamide' 'Alanine/Niacinamide'\n",
      " 'Valine/Niacinamide' 'Leucine/Niacinamide' 'Isoleucine/Niacinamide'\n",
      " '1-methylnicotinamide/Niacinamide' '3-phosphoglycerate/Niacinamide'\n",
      " 'DHAP/Niacinamide' 'Glycine/Niacinamide' 'Serine/Niacinamide'\n",
      " 'Methionine/Niacinamide' 'Homocysteine/Niacinamide'\n",
      " '5-adenosylhomocysteine/Niacinamide' 'Alpha-ketoglutarate/Niacinamide'\n",
      " 'Succinate/Niacinamide' 'Glutamine/Niacinamide' 'Aspartate/Niacinamide'\n",
      " 'Glutamate/Niacinamide' 'Citrate/1-methylnicotinamide'\n",
      " 'Isocitrate/1-methylnicotinamide' 'Fumarate/1-methylnicotinamide'\n",
      " 'NAD/1-methylnicotinamide' 'NADP/1-methylnicotinamide'\n",
      " 'Pantothenate/1-methylnicotinamide' 'PEP/1-methylnicotinamide'\n",
      " 'Alanine/1-methylnicotinamide' 'Valine/1-methylnicotinamide'\n",
      " 'Leucine/1-methylnicotinamide' 'Isoleucine/1-methylnicotinamide'\n",
      " 'Niacinamide/1-methylnicotinamide'\n",
      " '3-phosphoglycerate/1-methylnicotinamide' 'DHAP/1-methylnicotinamide'\n",
      " 'Glycine/1-methylnicotinamide' 'Serine/1-methylnicotinamide'\n",
      " 'Methionine/1-methylnicotinamide' 'Homocysteine/1-methylnicotinamide'\n",
      " '5-adenosylhomocysteine/1-methylnicotinamide'\n",
      " 'Alpha-ketoglutarate/1-methylnicotinamide'\n",
      " 'Succinate/1-methylnicotinamide' 'Glutamine/1-methylnicotinamide'\n",
      " 'Aspartate/1-methylnicotinamide' 'Glutamate/1-methylnicotinamide'\n",
      " 'Citrate/3-phosphoglycerate' 'Isocitrate/3-phosphoglycerate'\n",
      " 'Fumarate/3-phosphoglycerate' 'NAD/3-phosphoglycerate'\n",
      " 'NADP/3-phosphoglycerate' 'Pantothenate/3-phosphoglycerate'\n",
      " 'PEP/3-phosphoglycerate' 'Alanine/3-phosphoglycerate'\n",
      " 'Valine/3-phosphoglycerate' 'Leucine/3-phosphoglycerate'\n",
      " 'Isoleucine/3-phosphoglycerate' 'Niacinamide/3-phosphoglycerate'\n",
      " '1-methylnicotinamide/3-phosphoglycerate' 'DHAP/3-phosphoglycerate'\n",
      " 'Glycine/3-phosphoglycerate' 'Serine/3-phosphoglycerate'\n",
      " 'Methionine/3-phosphoglycerate' 'Homocysteine/3-phosphoglycerate'\n",
      " '5-adenosylhomocysteine/3-phosphoglycerate'\n",
      " 'Alpha-ketoglutarate/3-phosphoglycerate' 'Succinate/3-phosphoglycerate'\n",
      " 'Glutamine/3-phosphoglycerate' 'Aspartate/3-phosphoglycerate'\n",
      " 'Glutamate/3-phosphoglycerate' 'Citrate/DHAP' 'Isocitrate/DHAP'\n",
      " 'Fumarate/DHAP' 'NAD/DHAP' 'NADP/DHAP' 'Pantothenate/DHAP' 'PEP/DHAP'\n",
      " 'Alanine/DHAP' 'Valine/DHAP' 'Leucine/DHAP' 'Isoleucine/DHAP'\n",
      " 'Niacinamide/DHAP' '1-methylnicotinamide/DHAP' '3-phosphoglycerate/DHAP'\n",
      " 'Glycine/DHAP' 'Serine/DHAP' 'Methionine/DHAP' 'Homocysteine/DHAP'\n",
      " '5-adenosylhomocysteine/DHAP' 'Alpha-ketoglutarate/DHAP' 'Succinate/DHAP'\n",
      " 'Glutamine/DHAP' 'Aspartate/DHAP' 'Glutamate/DHAP' 'Citrate/Glycine'\n",
      " 'Isocitrate/Glycine' 'Fumarate/Glycine' 'NAD/Glycine' 'NADP/Glycine'\n",
      " 'Pantothenate/Glycine' 'PEP/Glycine' 'Alanine/Glycine' 'Valine/Glycine'\n",
      " 'Leucine/Glycine' 'Isoleucine/Glycine' 'Niacinamide/Glycine'\n",
      " '1-methylnicotinamide/Glycine' '3-phosphoglycerate/Glycine'\n",
      " 'DHAP/Glycine' 'Serine/Glycine' 'Methionine/Glycine'\n",
      " 'Homocysteine/Glycine' '5-adenosylhomocysteine/Glycine'\n",
      " 'Alpha-ketoglutarate/Glycine' 'Succinate/Glycine' 'Glutamine/Glycine'\n",
      " 'Aspartate/Glycine' 'Glutamate/Glycine' 'Citrate/Serine'\n",
      " 'Isocitrate/Serine' 'Fumarate/Serine' 'NAD/Serine' 'NADP/Serine'\n",
      " 'Pantothenate/Serine' 'PEP/Serine' 'Alanine/Serine' 'Valine/Serine'\n",
      " 'Leucine/Serine' 'Isoleucine/Serine' 'Niacinamide/Serine'\n",
      " '1-methylnicotinamide/Serine' '3-phosphoglycerate/Serine' 'DHAP/Serine'\n",
      " 'Glycine/Serine' 'Methionine/Serine' 'Homocysteine/Serine'\n",
      " '5-adenosylhomocysteine/Serine' 'Alpha-ketoglutarate/Serine'\n",
      " 'Succinate/Serine' 'Glutamine/Serine' 'Aspartate/Serine'\n",
      " 'Glutamate/Serine' 'Citrate/Methionine' 'Isocitrate/Methionine'\n",
      " 'Fumarate/Methionine' 'NAD/Methionine' 'NADP/Methionine'\n",
      " 'Pantothenate/Methionine' 'PEP/Methionine' 'Alanine/Methionine'\n",
      " 'Valine/Methionine' 'Leucine/Methionine' 'Isoleucine/Methionine'\n",
      " 'Niacinamide/Methionine' '1-methylnicotinamide/Methionine'\n",
      " '3-phosphoglycerate/Methionine' 'DHAP/Methionine' 'Glycine/Methionine'\n",
      " 'Serine/Methionine' 'Homocysteine/Methionine'\n",
      " '5-adenosylhomocysteine/Methionine' 'Alpha-ketoglutarate/Methionine'\n",
      " 'Succinate/Methionine' 'Glutamine/Methionine' 'Aspartate/Methionine'\n",
      " 'Glutamate/Methionine' 'Citrate/Homocysteine' 'Isocitrate/Homocysteine'\n",
      " 'Fumarate/Homocysteine' 'NAD/Homocysteine' 'NADP/Homocysteine'\n",
      " 'Pantothenate/Homocysteine' 'PEP/Homocysteine' 'Alanine/Homocysteine'\n",
      " 'Valine/Homocysteine' 'Leucine/Homocysteine' 'Isoleucine/Homocysteine'\n",
      " 'Niacinamide/Homocysteine' '1-methylnicotinamide/Homocysteine'\n",
      " '3-phosphoglycerate/Homocysteine' 'DHAP/Homocysteine'\n",
      " 'Glycine/Homocysteine' 'Serine/Homocysteine' 'Methionine/Homocysteine'\n",
      " '5-adenosylhomocysteine/Homocysteine' 'Alpha-ketoglutarate/Homocysteine'\n",
      " 'Succinate/Homocysteine' 'Glutamine/Homocysteine'\n",
      " 'Aspartate/Homocysteine' 'Glutamate/Homocysteine'\n",
      " 'Citrate/5-adenosylhomocysteine' 'Isocitrate/5-adenosylhomocysteine'\n",
      " 'Fumarate/5-adenosylhomocysteine' 'NAD/5-adenosylhomocysteine'\n",
      " 'NADP/5-adenosylhomocysteine' 'Pantothenate/5-adenosylhomocysteine'\n",
      " 'PEP/5-adenosylhomocysteine' 'Alanine/5-adenosylhomocysteine'\n",
      " 'Valine/5-adenosylhomocysteine' 'Leucine/5-adenosylhomocysteine'\n",
      " 'Isoleucine/5-adenosylhomocysteine' 'Niacinamide/5-adenosylhomocysteine'\n",
      " '1-methylnicotinamide/5-adenosylhomocysteine'\n",
      " '3-phosphoglycerate/5-adenosylhomocysteine' 'DHAP/5-adenosylhomocysteine'\n",
      " 'Glycine/5-adenosylhomocysteine' 'Serine/5-adenosylhomocysteine'\n",
      " 'Methionine/5-adenosylhomocysteine' 'Homocysteine/5-adenosylhomocysteine'\n",
      " 'Alpha-ketoglutarate/5-adenosylhomocysteine'\n",
      " 'Succinate/5-adenosylhomocysteine' 'Glutamine/5-adenosylhomocysteine'\n",
      " 'Aspartate/5-adenosylhomocysteine' 'Glutamate/5-adenosylhomocysteine'\n",
      " 'Citrate/Alpha-ketoglutarate' 'Isocitrate/Alpha-ketoglutarate'\n",
      " 'Fumarate/Alpha-ketoglutarate' 'NAD/Alpha-ketoglutarate'\n",
      " 'NADP/Alpha-ketoglutarate' 'Pantothenate/Alpha-ketoglutarate'\n",
      " 'PEP/Alpha-ketoglutarate' 'Alanine/Alpha-ketoglutarate'\n",
      " 'Valine/Alpha-ketoglutarate' 'Leucine/Alpha-ketoglutarate'\n",
      " 'Isoleucine/Alpha-ketoglutarate' 'Niacinamide/Alpha-ketoglutarate'\n",
      " '1-methylnicotinamide/Alpha-ketoglutarate'\n",
      " '3-phosphoglycerate/Alpha-ketoglutarate' 'DHAP/Alpha-ketoglutarate'\n",
      " 'Glycine/Alpha-ketoglutarate' 'Serine/Alpha-ketoglutarate'\n",
      " 'Methionine/Alpha-ketoglutarate' 'Homocysteine/Alpha-ketoglutarate'\n",
      " '5-adenosylhomocysteine/Alpha-ketoglutarate'\n",
      " 'Succinate/Alpha-ketoglutarate' 'Glutamine/Alpha-ketoglutarate'\n",
      " 'Aspartate/Alpha-ketoglutarate' 'Glutamate/Alpha-ketoglutarate'\n",
      " 'Citrate/Succinate' 'Isocitrate/Succinate' 'Fumarate/Succinate'\n",
      " 'NAD/Succinate' 'NADP/Succinate' 'Pantothenate/Succinate' 'PEP/Succinate'\n",
      " 'Alanine/Succinate' 'Valine/Succinate' 'Leucine/Succinate'\n",
      " 'Isoleucine/Succinate' 'Niacinamide/Succinate'\n",
      " '1-methylnicotinamide/Succinate' '3-phosphoglycerate/Succinate'\n",
      " 'DHAP/Succinate' 'Glycine/Succinate' 'Serine/Succinate'\n",
      " 'Methionine/Succinate' 'Homocysteine/Succinate'\n",
      " '5-adenosylhomocysteine/Succinate' 'Alpha-ketoglutarate/Succinate'\n",
      " 'Glutamine/Succinate' 'Aspartate/Succinate' 'Glutamate/Succinate'\n",
      " 'Citrate/Glutamine' 'Isocitrate/Glutamine' 'Fumarate/Glutamine'\n",
      " 'NAD/Glutamine' 'NADP/Glutamine' 'Pantothenate/Glutamine' 'PEP/Glutamine'\n",
      " 'Alanine/Glutamine' 'Valine/Glutamine' 'Leucine/Glutamine'\n",
      " 'Isoleucine/Glutamine' 'Niacinamide/Glutamine'\n",
      " '1-methylnicotinamide/Glutamine' '3-phosphoglycerate/Glutamine'\n",
      " 'DHAP/Glutamine' 'Glycine/Glutamine' 'Serine/Glutamine'\n",
      " 'Methionine/Glutamine' 'Homocysteine/Glutamine'\n",
      " '5-adenosylhomocysteine/Glutamine' 'Alpha-ketoglutarate/Glutamine'\n",
      " 'Succinate/Glutamine' 'Aspartate/Glutamine' 'Glutamate/Glutamine'\n",
      " 'Citrate/Aspartate' 'Isocitrate/Aspartate' 'Fumarate/Aspartate'\n",
      " 'NAD/Aspartate' 'NADP/Aspartate' 'Pantothenate/Aspartate' 'PEP/Aspartate'\n",
      " 'Alanine/Aspartate' 'Valine/Aspartate' 'Leucine/Aspartate'\n",
      " 'Isoleucine/Aspartate' 'Niacinamide/Aspartate'\n",
      " '1-methylnicotinamide/Aspartate' '3-phosphoglycerate/Aspartate'\n",
      " 'DHAP/Aspartate' 'Glycine/Aspartate' 'Serine/Aspartate'\n",
      " 'Methionine/Aspartate' 'Homocysteine/Aspartate'\n",
      " '5-adenosylhomocysteine/Aspartate' 'Alpha-ketoglutarate/Aspartate'\n",
      " 'Succinate/Aspartate' 'Glutamine/Aspartate' 'Glutamate/Aspartate'\n",
      " 'Citrate/Glutamate' 'Isocitrate/Glutamate' 'Fumarate/Glutamate'\n",
      " 'NAD/Glutamate' 'NADP/Glutamate' 'Pantothenate/Glutamate' 'PEP/Glutamate'\n",
      " 'Alanine/Glutamate' 'Valine/Glutamate' 'Leucine/Glutamate'\n",
      " 'Isoleucine/Glutamate' 'Niacinamide/Glutamate'\n",
      " '1-methylnicotinamide/Glutamate' '3-phosphoglycerate/Glutamate'\n",
      " 'DHAP/Glutamate' 'Glycine/Glutamate' 'Serine/Glutamate'\n",
      " 'Methionine/Glutamate' 'Homocysteine/Glutamate'\n",
      " '5-adenosylhomocysteine/Glutamate' 'Alpha-ketoglutarate/Glutamate'\n",
      " 'Succinate/Glutamate' 'Glutamine/Glutamate' 'Aspartate/Glutamate']\n",
      "    Cell Lines   H3K4me1   H3K4me2   H3K9me1   H3K9me2   H3K9me3  H3K36me1  \\\n",
      "0        DMS53 -0.258615 -0.574277 -1.764141 -0.458260 -0.051441  0.301743   \n",
      "1       SW1116  0.370540  0.185331  1.221269  0.674071 -0.714118 -1.460108   \n",
      "2     NCIH1694  0.503631  0.123893  0.328293  0.115291 -0.337532 -0.058874   \n",
      "3        P3HR1 -1.042682 -0.934774  0.393059  0.132116 -0.277339  0.358086   \n",
      "4        HUT78 -0.107272 -0.441007  0.118679  0.251269 -0.762379  0.143075   \n",
      "..         ...       ...       ...       ...       ...       ...       ...   \n",
      "863      MOLT3 -1.126798 -0.473238 -0.418619 -0.842171 -1.276833 -0.576553   \n",
      "864     OVCAR5  1.736292  0.785955 -0.252380 -0.188912 -0.325915  0.345913   \n",
      "865       UO31  0.071172  0.379767  1.077169  0.628204  0.898277  0.422594   \n",
      "866      SF539 -0.619968 -0.320392 -0.388746  0.555934 -0.707850  0.597349   \n",
      "867      SNB75  0.383581  0.154890 -0.633905  0.897978  0.535640 -0.046789   \n",
      "\n",
      "     H3K36me2  H3K36me3  H3K27me1  ...  H3K27me1/H3K27ac1  H3K27me2/H3K27ac1  \\\n",
      "0    0.636462 -0.188279 -2.170257  ...          -1.589628          -1.043713   \n",
      "1   -1.284015 -1.400048 -0.234410  ...           1.563420           2.111809   \n",
      "2    0.105985 -1.168827 -0.977108  ...          -0.676632          -0.268644   \n",
      "3   -0.165044  0.311073  1.309181  ...           0.067234          -0.152325   \n",
      "4    0.376187  0.128925 -0.442899  ...          -0.119210           0.029460   \n",
      "..        ...       ...       ...  ...                ...                ...   \n",
      "863 -0.852657 -1.096945 -0.708937  ...           0.021811           0.702822   \n",
      "864  0.438531  0.416527 -0.026310  ...          -1.071072          -1.162021   \n",
      "865  0.605317  0.645147  0.567078  ...           0.472237           0.113844   \n",
      "866  0.922786 -0.551662 -0.169740  ...           0.095910          -0.040331   \n",
      "867  0.253478  0.149072 -0.294749  ...          -0.062370           0.047326   \n",
      "\n",
      "     H3K27me3/H3K27ac1  H3K79me1/H3K27ac1  H3K79me2/H3K27ac1  \\\n",
      "0            -0.559498          -0.110151          -0.024831   \n",
      "1             1.777223           1.707205           1.655996   \n",
      "2             0.294559           0.081040          -0.166769   \n",
      "3            -0.402287          -0.614682          -0.508237   \n",
      "4             0.591241           0.103036           0.135693   \n",
      "..                 ...                ...                ...   \n",
      "863           0.980428           0.402133           0.294759   \n",
      "864          -1.069513          -0.862678          -0.807455   \n",
      "865           0.128504           0.120321           0.016687   \n",
      "866           0.102109           0.143129           0.070381   \n",
      "867           0.305161           0.203123           0.250688   \n",
      "\n",
      "     H3K4ac1/H3K27ac1  H3K9ac1/H3K27ac1  H3K14ac1/H3K27ac1  H3K18ac1/H3K27ac1  \\\n",
      "0           -0.350498         -0.690801          -0.955206          -0.142570   \n",
      "1            1.779307          1.593280           1.149911           1.983001   \n",
      "2            0.156737         -0.255530           0.113915           0.279365   \n",
      "3           -0.473103         -0.459209          -0.537459          -0.756428   \n",
      "4            0.352461          0.115211           0.798540           0.026810   \n",
      "..                ...               ...                ...                ...   \n",
      "863          0.846396          0.834489           1.248844           0.175898   \n",
      "864         -0.855519         -1.014860          -0.665492          -0.342190   \n",
      "865          0.151653         -0.118760           0.071290           0.073687   \n",
      "866          0.286769         -0.116636           0.025032          -0.024199   \n",
      "867          0.216946         -0.070678          -0.050279           0.314448   \n",
      "\n",
      "     H3K23ac1/H3K27ac1  \n",
      "0            -0.379064  \n",
      "1             1.884448  \n",
      "2             0.156086  \n",
      "3            -0.426574  \n",
      "4             0.502482  \n",
      "..                 ...  \n",
      "863           0.995091  \n",
      "864          -1.277435  \n",
      "865           0.494218  \n",
      "866          -0.244129  \n",
      "867           0.170333  \n",
      "\n",
      "[868 rows x 363 columns]\n"
     ]
    }
   ],
   "source": [
    "# Import necessary data science libraries\n",
    "import pandas as pd\n",
    "import numpy as np\n",
    "\n",
    "gcp_path = '~/Data/Proteomics/CCLE/CCLE Global Chromatin Profiles.xlsx'\n",
    "met_path = '~/Data/Metabolomics/CCLE/ccle_all.json'\n",
    "\n",
    "GCP = pd.read_excel(gcp_path, 'Single + Ratios')\n",
    "MET = pd.read_json(met_path)\n",
    "print(MET.columns.values)\n",
    "print(GCP)"
   ]
  },
  {
   "cell_type": "markdown",
   "metadata": {
    "id": "j4yDaki6z-U-"
   },
   "source": [
    "To preprocess the data, we'll do a couple of things, including:\n",
    "  * Match by cell lines\n",
    "  * Sort by index\n",
    "  * Remove unncessary columns\n",
    "  * Z-score the metabolomics data"
   ]
  },
  {
   "cell_type": "code",
   "execution_count": 98,
   "metadata": {
    "ExecuteTime": {
     "end_time": "2020-10-06T20:43:26.038918Z",
     "start_time": "2020-10-06T20:43:26.008749Z"
    },
    "colab": {
     "base_uri": "https://localhost:8080/",
     "height": 52
    },
    "id": "emRxoKpSr-ZW",
    "outputId": "cf2a3dda-3509-4265-d7c0-aa3b365a4cc8"
   },
   "outputs": [],
   "source": [
    "idx = list(set(GCP['Cell Lines']) & set(MET['Cell Lines']))\n",
    "GCP = GCP[GCP['Cell Lines'].isin(idx)]\n",
    "MET = MET[MET['Cell Lines'].isin(idx)]\n",
    "GCP = GCP.drop_duplicates(subset='Cell Lines', keep='first')\n",
    "MET = MET.drop_duplicates(subset='Cell Lines', keep='first')\n",
    "\n",
    "GCP = GCP.sort_values(by=['Cell Lines'])\n",
    "MET = MET.sort_values(by=['Cell Lines'])"
   ]
  },
  {
   "cell_type": "markdown",
   "metadata": {
    "id": "SryJiBsqt4to"
   },
   "source": [
    "This code block drops some unnecessary columns in the merged dataset."
   ]
  },
  {
   "cell_type": "code",
   "execution_count": 101,
   "metadata": {
    "ExecuteTime": {
     "end_time": "2020-10-06T20:44:17.040963Z",
     "start_time": "2020-10-06T20:44:17.035879Z"
    },
    "colab": {
     "base_uri": "https://localhost:8080/",
     "height": 52
    },
    "id": "ewwFfZ8ot41C",
    "outputId": "fabf6395-678c-49c9-d202-7534d45de20e"
   },
   "outputs": [],
   "source": [
    "cell_lines = GCP['Cell Lines'].values\n",
    "gcpcol_to_drop = ['Cell Lines'] \n",
    "metcol_to_drop = ['index', 'Cell Lines']\n",
    "\n",
    "GCP = GCP.drop(labels=gcpcol_to_drop, axis=1)\n",
    "MET = MET.drop(labels=metcol_to_drop, axis=1)"
   ]
  },
  {
   "cell_type": "markdown",
   "metadata": {
    "id": "pppryyzuPiww"
   },
   "source": [
    "Save the column names, which will be used later when constructing dataframes for evaluating model performance."
   ]
  },
  {
   "cell_type": "code",
   "execution_count": 104,
   "metadata": {
    "ExecuteTime": {
     "end_time": "2020-10-06T20:44:58.707784Z",
     "start_time": "2020-10-06T20:44:58.705397Z"
    }
   },
   "outputs": [
    {
     "name": "stdout",
     "output_type": "stream",
     "text": [
      "625\n",
      "362\n"
     ]
    }
   ],
   "source": [
    "metabolites = list(MET.columns)\n",
    "gcps = list(GCP.columns)\n",
    "print(len(metabolites))\n",
    "print(len(gcps))"
   ]
  },
  {
   "cell_type": "markdown",
   "metadata": {},
   "source": [
    "Normalize the data if necessary."
   ]
  },
  {
   "cell_type": "code",
   "execution_count": 40,
   "metadata": {
    "ExecuteTime": {
     "end_time": "2020-10-06T20:09:48.369571Z",
     "start_time": "2020-10-06T20:09:48.360700Z"
    },
    "id": "MWBJDmlgvgKG"
   },
   "outputs": [],
   "source": [
    "from sklearn.preprocessing import quantile_transform\n",
    "from sklearn.preprocessing import robust_scale\n",
    "from scipy.stats import zscore\n",
    "GCP_norm = GCP\n",
    "MET_norm = zscore(MET, axis=1)"
   ]
  },
  {
   "cell_type": "markdown",
   "metadata": {
    "id": "BsMob4CZwh-y"
   },
   "source": [
    "# SANITY CHECK: Plot the data distributions for the metabolites and histone ratios"
   ]
  },
  {
   "cell_type": "code",
   "execution_count": 41,
   "metadata": {
    "ExecuteTime": {
     "end_time": "2020-10-06T20:09:52.146814Z",
     "start_time": "2020-10-06T20:09:50.132179Z"
    },
    "colab": {
     "base_uri": "https://localhost:8080/",
     "height": 752
    },
    "id": "84VEcB0_vxFm",
    "outputId": "af5329bd-c335-4d33-87a8-996fcdc31a2f"
   },
   "outputs": [
    {
     "data": {
      "text/plain": [
       "<AxesSubplot:ylabel='Density'>"
      ]
     },
     "execution_count": 41,
     "metadata": {},
     "output_type": "execute_result"
    },
    {
     "data": {
      "image/png": "[encoded data removed]",
      "text/plain": [
       "<Figure size 864x864 with 1 Axes>"
      ]
     },
     "metadata": {
      "needs_background": "light"
     },
     "output_type": "display_data"
    }
   ],
   "source": [
    "import matplotlib.pyplot as plt\n",
    "import seaborn as sns\n",
    "from sklearn.model_selection import train_test_split\n",
    "plt.figure(figsize=(12, 12))\n",
    "sns.distplot(GCP, bins=100)\n",
    "sns.distplot(MET_norm, bins=100)"
   ]
  },
  {
   "cell_type": "markdown",
   "metadata": {
    "id": "M_TmEWOQURia"
   },
   "source": [
    "# Cancer cell line encyclopedia GCP -> Metabolism models\n",
    "First, let's split the data into training and test sets."
   ]
  },
  {
   "cell_type": "markdown",
   "metadata": {
    "id": "YG5YxZ4iUcyc"
   },
   "source": [
    "Convert to Numpy array."
   ]
  },
  {
   "cell_type": "code",
   "execution_count": 42,
   "metadata": {
    "ExecuteTime": {
     "end_time": "2020-10-06T20:09:56.322880Z",
     "start_time": "2020-10-06T20:09:56.321086Z"
    },
    "id": "5MuqWvZlUfD6"
   },
   "outputs": [],
   "source": [
    "GCP_norm = GCP_norm.to_numpy()"
   ]
  },
  {
   "cell_type": "markdown",
   "metadata": {
    "id": "x-lf2L3UUgk6"
   },
   "source": [
    "Split the data into validation and training data."
   ]
  },
  {
   "cell_type": "code",
   "execution_count": 43,
   "metadata": {
    "ExecuteTime": {
     "end_time": "2020-10-06T20:09:58.383003Z",
     "start_time": "2020-10-06T20:09:58.375099Z"
    },
    "id": "EEZzB9PDUi36"
   },
   "outputs": [],
   "source": [
    "# Split the CCLE data into a validation set\n",
    "Xtrain, Xval, Ytrain, Yval = train_test_split(\n",
    "    GCP_norm, MET_norm, test_size=0.3, random_state=0\n",
    ")"
   ]
  },
  {
   "cell_type": "markdown",
   "metadata": {
    "id": "74AQcodbUlec"
   },
   "source": [
    "Print shape of $X_{train}$ and $Y_{train}$."
   ]
  },
  {
   "cell_type": "code",
   "execution_count": 44,
   "metadata": {
    "ExecuteTime": {
     "end_time": "2020-10-06T20:10:00.374706Z",
     "start_time": "2020-10-06T20:10:00.371982Z"
    },
    "colab": {
     "base_uri": "https://localhost:8080/",
     "height": 121
    },
    "id": "dcsAAHEtUnO0",
    "outputId": "2c010f8a-04c0-4389-c793-b396502ec135"
   },
   "outputs": [
    {
     "name": "stdout",
     "output_type": "stream",
     "text": [
      "(856, 342)\n",
      "(856, 625)\n",
      "(599, 342)\n",
      "(599, 625)\n",
      "(257, 342)\n",
      "(257, 625)\n"
     ]
    }
   ],
   "source": [
    "print(GCP_norm.shape)\n",
    "print(MET_norm.shape)\n",
    "print(Xtrain.shape)\n",
    "print(Ytrain.shape)\n",
    "print(Xval.shape)\n",
    "print(Yval.shape)"
   ]
  },
  {
   "cell_type": "code",
   "execution_count": 45,
   "metadata": {
    "ExecuteTime": {
     "end_time": "2020-10-06T20:10:02.102286Z",
     "start_time": "2020-10-06T20:10:02.097139Z"
    },
    "colab": {
     "base_uri": "https://localhost:8080/",
     "height": 121
    },
    "id": "rgu_Q8ct5dS2",
    "outputId": "173df2c4-cd07-4973-d586-c8f7fcf2a574"
   },
   "outputs": [
    {
     "name": "stdout",
     "output_type": "stream",
     "text": [
      "0\n",
      "0\n",
      "0\n",
      "0\n",
      "0\n",
      "0\n"
     ]
    }
   ],
   "source": [
    "print(np.sum(Xtrain == np.inf))\n",
    "print(np.sum(Xtrain == -np.inf))\n",
    "print(np.sum(Xtrain == np.NaN))\n",
    "print(np.sum(Ytrain == np.inf))\n",
    "print(np.sum(Ytrain == -np.inf))\n",
    "print(np.sum(Ytrain == np.NaN))"
   ]
  },
  {
   "cell_type": "markdown",
   "metadata": {
    "id": "ZstpNbRHUpXx"
   },
   "source": [
    "## 3-fold cross validation for non-linear regressor selection\n",
    "Now let's train a bunch of non-linear regressors and evaluate their performance.\n",
    "\n",
    "We'll train the following ML models:\n",
    "  * Random Forests\n",
    "  * Gradient boosting\n",
    "  * Gaussian Process Regression\n",
    "  * XGBoost\n"
   ]
  },
  {
   "cell_type": "code",
   "execution_count": 116,
   "metadata": {
    "ExecuteTime": {
     "end_time": "2020-10-06T22:47:28.443305Z",
     "start_time": "2020-10-06T22:47:28.439022Z"
    },
    "colab": {
     "base_uri": "https://localhost:8080/",
     "height": 190
    },
    "id": "2_VcqkUOUs8g",
    "outputId": "141d4b3d-f646-49ed-a223-d589764085a3"
   },
   "outputs": [],
   "source": [
    "# ML models\n",
    "from sklearn.ensemble import RandomForestRegressor\n",
    "from sklearn.ensemble import GradientBoostingRegressor\n",
    "from sklearn.ensemble import ExtraTreesRegressor\n",
    "import xgboost as xgb\n",
    "\n",
    "# Accessory functions\n",
    "from sklearn.model_selection import KFold\n",
    "from sklearn.metrics import mean_squared_error\n",
    "from skopt import BayesSearchCV\n",
    "from skopt.space import Real, Categorical, Integer\n",
    "from time import sleep\n",
    "import progressbar\n",
    "\n",
    "# Suppress annoying warnings\n",
    "import warnings\n",
    "warnings.filterwarnings(\"ignore\", category=FutureWarning)\n",
    "from joblib import Parallel, delayed, parallel_backend\n",
    "from skopt import dump, load\n",
    "from skopt.utils import use_named_args\n",
    "from sklearn.multioutput import MultiOutputRegressor\n",
    "\n",
    "import multiprocessing"
   ]
  },
  {
   "cell_type": "markdown",
   "metadata": {
    "id": "9k5kt4_SxtLp"
   },
   "source": [
    "### Load some hyperparameters to sample"
   ]
  },
  {
   "cell_type": "markdown",
   "metadata": {
    "id": "l7TmiUSd31TF"
   },
   "source": [
    "Let's define the search parameters we'll use for hyperparameter optimization"
   ]
  },
  {
   "cell_type": "code",
   "execution_count": 122,
   "metadata": {
    "ExecuteTime": {
     "end_time": "2020-10-06T22:51:27.873775Z",
     "start_time": "2020-10-06T22:51:27.862795Z"
    },
    "id": "4Hsh7CiL31ny"
   },
   "outputs": [],
   "source": [
    "# Gradient boosting\n",
    "gb_params = {\n",
    "    'max_depth': Integer(1, 5),\n",
    "    'max_features': Categorical(['auto', 'sqrt', 'log2']),\n",
    "    'min_samples_split': Integer(2, 100),\n",
    "    'min_samples_leaf': Integer(1, 100),\n",
    "    'learning_rate': Real(10**-5, 10**0, \"log-uniform\")\n",
    "}\n",
    "\n",
    "# Random Forests\n",
    "rf_params = {\n",
    "    'max_depth': Integer(1, 5),\n",
    "    'max_features': Integer(1, Xtrain.shape[1]-1),\n",
    "    'min_samples_split': Integer(2, 100),\n",
    "    'min_samples_leaf': Integer(1, 100)\n",
    "}\n",
    "\n",
    "# Extra Trees\n",
    "et_params = {\n",
    "    'max_depth': Integer(1, 5),\n",
    "    'max_features': Integer(1, Xtrain.shape[1]-1),\n",
    "    'min_samples_split': Integer(2, 100),\n",
    "    'min_samples_leaf': Integer(1, 100),\n",
    "}\n",
    "\n",
    "# XGBoost\n",
    "xgb_params ={\n",
    "    'gamma': Integer(1, 10),\n",
    "    'learning_rate': Real(10**-5, 0.99, prior=\"log-uniform\"),\n",
    "    'max_depth': Integer(3, 10),\n",
    "    'reg_alpha': Real(10**-5, 1, prior=\"log-uniform\"),\n",
    "    'reg_lambda':Real(10**-5, 1, prior=\"log-uniform\"),\n",
    "    'max_delta_step': Integer(0, 10),\n",
    "}"
   ]
  },
  {
   "cell_type": "markdown",
   "metadata": {},
   "source": [
    "Now let's store our models, hyperparameters, and file paths in a list."
   ]
  },
  {
   "cell_type": "code",
   "execution_count": 123,
   "metadata": {
    "ExecuteTime": {
     "end_time": "2020-10-06T22:51:34.523037Z",
     "start_time": "2020-10-06T22:51:34.520823Z"
    }
   },
   "outputs": [],
   "source": [
    "models = [\n",
    "          RandomForestRegressor(),\n",
    "          GradientBoostingRegressor(),\n",
    "          ExtraTreesRegressor(),\n",
    "          xgb.XGBRegressor()\n",
    "]\n",
    "params = [\n",
    "          rf_params,\n",
    "          gb_params,\n",
    "          et_params,\n",
    "          xgb_params\n",
    "]\n",
    "names = [\n",
    "         '/home/scampit/Data/Models/GCP2Met/rf.pkl',\n",
    "         '/home/scampit/Data/Models/GCP2Met/gb.pkl',\n",
    "         '/home/scampit/Data/Models/GCP2Met/et.pkl',\n",
    "         '/home/scampit/Data/Models/GCP2Met/xgb.pkl'\n",
    "]"
   ]
  },
  {
   "cell_type": "markdown",
   "metadata": {},
   "source": [
    "## Specify progress bar and K-folds"
   ]
  },
  {
   "cell_type": "markdown",
   "metadata": {},
   "source": [
    "Next, we'll specify the parameters for printing out a progress bar, as well as the number and method of kfold splitting."
   ]
  },
  {
   "cell_type": "code",
   "execution_count": 124,
   "metadata": {
    "ExecuteTime": {
     "end_time": "2020-10-06T22:51:41.254434Z",
     "start_time": "2020-10-06T22:51:41.252483Z"
    }
   },
   "outputs": [],
   "source": [
    "bar = progressbar.ProgressBar(maxval=Ytrain.shape[1], \\\n",
    "    widgets=[progressbar.Bar('=', '[', ']'), ' ', progressbar.Percentage()])\n",
    "\n",
    "# Set the kfold operator to split 3 times with shuffle\n",
    "kfold = KFold(n_splits=3, \n",
    "              shuffle=True, \n",
    "              random_state=0)"
   ]
  },
  {
   "cell_type": "markdown",
   "metadata": {},
   "source": [
    "## Create a function that trains the models"
   ]
  },
  {
   "cell_type": "markdown",
   "metadata": {},
   "source": [
    "We'll create a function that trains the model and performs the following steps:\n",
    "  1. Define the BayesOpt object.\n",
    "  2. Compute a model for each feature.\n",
    "  3. Save all models based on a designated path."
   ]
  },
  {
   "cell_type": "code",
   "execution_count": 130,
   "metadata": {
    "ExecuteTime": {
     "end_time": "2020-10-06T22:56:30.283993Z",
     "start_time": "2020-10-06T22:56:30.280770Z"
    }
   },
   "outputs": [],
   "source": [
    "def train_models(models, params, Xtrain, Ytrain, kfold, filename):\n",
    "    \"\"\"\n",
    "    train_models performs kfold bayesian hyperparameter tuning for different \n",
    "    models, and saves the output for model persistence.\n",
    "\n",
    "    :param models: A single sklearn model object or list of sklearn model objects.\n",
    "    :param params: A dictionary or list of dictionaries containing hyperparameters \n",
    "                 to tune.\n",
    "    :param Xtrain: A numpy array or pandas dataframe containing the training data.\n",
    "    :param Ytrain: A numpy array or pandas dataframe containing the output data.\n",
    "    :param kfold:  An integer or sklearn object determining the kfold operation \n",
    "                 performed.\n",
    "    :param filename: A string or list of paths to save the models (pickle).\n",
    "\n",
    "    \"\"\"\n",
    "    no_of_cpus = multiprocessing.cpu_count()\n",
    "\n",
    "    with parallel_backend('threading', n_jobs=no_of_cpus):\n",
    "        for i in range(len(models)):\n",
    "            opt = BayesSearchCV(\n",
    "                                  estimator=models[i],\n",
    "                                  search_spaces=params[i],\n",
    "                                  n_iter=30,\n",
    "                                  cv=kfold,\n",
    "                                  n_jobs=-1,\n",
    "                                  random_state=0\n",
    "            )\n",
    "\n",
    "            mdls =[]\n",
    "            bar.start()\n",
    "            for j in range(Ytrain.shape[1]):\n",
    "                _ = opt.fit(Xtrain, Ytrain[:, j])\n",
    "                mdls.append(opt)\n",
    "                dump(res=mdls, filename=filename[i])\n",
    "                bar.update(j)\n",
    "                sleep(0.1)\n",
    "            print(\"Finished hyperparameter optimization and cross validation for model number: \" \n",
    "                          + str(i))"
   ]
  },
  {
   "cell_type": "markdown",
   "metadata": {},
   "source": [
    "Now train the models."
   ]
  },
  {
   "cell_type": "code",
   "execution_count": null,
   "metadata": {
    "ExecuteTime": {
     "start_time": "2020-10-06T22:56:34.567Z"
    }
   },
   "outputs": [
    {
     "name": "stderr",
     "output_type": "stream",
     "text": [
      "/home/scampit/.local/lib/python3.8/site-packages/skopt/optimizer/optimizer.py:449: UserWarning: The objective has been evaluated at this point before.\n",
      "  warnings.warn(\"The objective has been evaluated \"\n",
      "/home/scampit/.local/lib/python3.8/site-packages/skopt/optimizer/optimizer.py:449: UserWarning: The objective has been evaluated at this point before.\n",
      "  warnings.warn(\"The objective has been evaluated \"\n",
      "/home/scampit/.local/lib/python3.8/site-packages/skopt/optimizer/optimizer.py:449: UserWarning: The objective has been evaluated at this point before.\n",
      "  warnings.warn(\"The objective has been evaluated \"\n",
      "/home/scampit/.local/lib/python3.8/site-packages/skopt/optimizer/optimizer.py:449: UserWarning: The objective has been evaluated at this point before.\n",
      "  warnings.warn(\"The objective has been evaluated \"\n",
      "/home/scampit/.local/lib/python3.8/site-packages/skopt/optimizer/optimizer.py:449: UserWarning: The objective has been evaluated at this point before.\n",
      "  warnings.warn(\"The objective has been evaluated \"\n",
      "/home/scampit/.local/lib/python3.8/site-packages/skopt/optimizer/optimizer.py:449: UserWarning: The objective has been evaluated at this point before.\n",
      "  warnings.warn(\"The objective has been evaluated \"\n",
      "/home/scampit/.local/lib/python3.8/site-packages/skopt/optimizer/optimizer.py:449: UserWarning: The objective has been evaluated at this point before.\n",
      "  warnings.warn(\"The objective has been evaluated \"\n",
      "/home/scampit/.local/lib/python3.8/site-packages/skopt/optimizer/optimizer.py:449: UserWarning: The objective has been evaluated at this point before.\n",
      "  warnings.warn(\"The objective has been evaluated \"\n",
      "/home/scampit/.local/lib/python3.8/site-packages/skopt/optimizer/optimizer.py:449: UserWarning: The objective has been evaluated at this point before.\n",
      "  warnings.warn(\"The objective has been evaluated \"\n",
      "/home/scampit/.local/lib/python3.8/site-packages/skopt/optimizer/optimizer.py:449: UserWarning: The objective has been evaluated at this point before.\n",
      "  warnings.warn(\"The objective has been evaluated \"\n",
      "/home/scampit/.local/lib/python3.8/site-packages/skopt/optimizer/optimizer.py:449: UserWarning: The objective has been evaluated at this point before.\n",
      "  warnings.warn(\"The objective has been evaluated \"\n",
      "/home/scampit/.local/lib/python3.8/site-packages/skopt/optimizer/optimizer.py:449: UserWarning: The objective has been evaluated at this point before.\n",
      "  warnings.warn(\"The objective has been evaluated \"\n",
      "/home/scampit/.local/lib/python3.8/site-packages/skopt/optimizer/optimizer.py:449: UserWarning: The objective has been evaluated at this point before.\n",
      "  warnings.warn(\"The objective has been evaluated \"\n",
      "/home/scampit/.local/lib/python3.8/site-packages/skopt/optimizer/optimizer.py:449: UserWarning: The objective has been evaluated at this point before.\n",
      "  warnings.warn(\"The objective has been evaluated \"\n",
      "/home/scampit/.local/lib/python3.8/site-packages/skopt/optimizer/optimizer.py:449: UserWarning: The objective has been evaluated at this point before.\n",
      "  warnings.warn(\"The objective has been evaluated \"\n",
      "/home/scampit/.local/lib/python3.8/site-packages/skopt/optimizer/optimizer.py:449: UserWarning: The objective has been evaluated at this point before.\n",
      "  warnings.warn(\"The objective has been evaluated \"\n",
      "/home/scampit/.local/lib/python3.8/site-packages/skopt/optimizer/optimizer.py:449: UserWarning: The objective has been evaluated at this point before.\n",
      "  warnings.warn(\"The objective has been evaluated \"\n",
      "/home/scampit/.local/lib/python3.8/site-packages/skopt/optimizer/optimizer.py:449: UserWarning: The objective has been evaluated at this point before.\n",
      "  warnings.warn(\"The objective has been evaluated \"\n",
      "/home/scampit/.local/lib/python3.8/site-packages/skopt/optimizer/optimizer.py:449: UserWarning: The objective has been evaluated at this point before.\n",
      "  warnings.warn(\"The objective has been evaluated \"\n",
      "/home/scampit/.local/lib/python3.8/site-packages/skopt/optimizer/optimizer.py:449: UserWarning: The objective has been evaluated at this point before.\n",
      "  warnings.warn(\"The objective has been evaluated \"\n",
      "/home/scampit/.local/lib/python3.8/site-packages/skopt/optimizer/optimizer.py:449: UserWarning: The objective has been evaluated at this point before.\n",
      "  warnings.warn(\"The objective has been evaluated \"\n",
      "/home/scampit/.local/lib/python3.8/site-packages/skopt/optimizer/optimizer.py:449: UserWarning: The objective has been evaluated at this point before.\n",
      "  warnings.warn(\"The objective has been evaluated \"\n",
      "/home/scampit/.local/lib/python3.8/site-packages/skopt/optimizer/optimizer.py:449: UserWarning: The objective has been evaluated at this point before.\n",
      "  warnings.warn(\"The objective has been evaluated \"\n",
      "/home/scampit/.local/lib/python3.8/site-packages/skopt/optimizer/optimizer.py:449: UserWarning: The objective has been evaluated at this point before.\n",
      "  warnings.warn(\"The objective has been evaluated \"\n",
      "/home/scampit/.local/lib/python3.8/site-packages/skopt/optimizer/optimizer.py:449: UserWarning: The objective has been evaluated at this point before.\n",
      "  warnings.warn(\"The objective has been evaluated \"\n",
      "/home/scampit/.local/lib/python3.8/site-packages/skopt/optimizer/optimizer.py:449: UserWarning: The objective has been evaluated at this point before.\n",
      "  warnings.warn(\"The objective has been evaluated \"\n",
      "/home/scampit/.local/lib/python3.8/site-packages/skopt/optimizer/optimizer.py:449: UserWarning: The objective has been evaluated at this point before.\n",
      "  warnings.warn(\"The objective has been evaluated \"\n",
      "/home/scampit/.local/lib/python3.8/site-packages/skopt/optimizer/optimizer.py:449: UserWarning: The objective has been evaluated at this point before.\n",
      "  warnings.warn(\"The objective has been evaluated \"\n",
      "/home/scampit/.local/lib/python3.8/site-packages/skopt/optimizer/optimizer.py:449: UserWarning: The objective has been evaluated at this point before.\n",
      "  warnings.warn(\"The objective has been evaluated \"\n",
      "/home/scampit/.local/lib/python3.8/site-packages/skopt/optimizer/optimizer.py:449: UserWarning: The objective has been evaluated at this point before.\n",
      "  warnings.warn(\"The objective has been evaluated \"\n",
      "/home/scampit/.local/lib/python3.8/site-packages/skopt/optimizer/optimizer.py:449: UserWarning: The objective has been evaluated at this point before.\n",
      "  warnings.warn(\"The objective has been evaluated \"\n",
      "/home/scampit/.local/lib/python3.8/site-packages/skopt/optimizer/optimizer.py:449: UserWarning: The objective has been evaluated at this point before.\n",
      "  warnings.warn(\"The objective has been evaluated \"\n",
      "/home/scampit/.local/lib/python3.8/site-packages/skopt/optimizer/optimizer.py:449: UserWarning: The objective has been evaluated at this point before.\n",
      "  warnings.warn(\"The objective has been evaluated \"\n",
      "/home/scampit/.local/lib/python3.8/site-packages/skopt/optimizer/optimizer.py:449: UserWarning: The objective has been evaluated at this point before.\n",
      "  warnings.warn(\"The objective has been evaluated \"\n",
      "/home/scampit/.local/lib/python3.8/site-packages/skopt/optimizer/optimizer.py:449: UserWarning: The objective has been evaluated at this point before.\n",
      "  warnings.warn(\"The objective has been evaluated \"\n",
      "/home/scampit/.local/lib/python3.8/site-packages/skopt/optimizer/optimizer.py:449: UserWarning: The objective has been evaluated at this point before.\n",
      "  warnings.warn(\"The objective has been evaluated \"\n",
      "/home/scampit/.local/lib/python3.8/site-packages/skopt/optimizer/optimizer.py:449: UserWarning: The objective has been evaluated at this point before.\n",
      "  warnings.warn(\"The objective has been evaluated \"\n",
      "/home/scampit/.local/lib/python3.8/site-packages/skopt/optimizer/optimizer.py:449: UserWarning: The objective has been evaluated at this point before.\n",
      "  warnings.warn(\"The objective has been evaluated \"\n"
     ]
    }
   ],
   "source": [
    "train_models(models, params, Xtrain, Ytrain, kfold, names)"
   ]
  },
  {
   "cell_type": "markdown",
   "metadata": {
    "id": "VhE0QDraFtg_"
   },
   "source": [
    "# Cancer cell line encyclopedia Metabolism -> GCP models\n",
    "Now we'll try to learn models that do the reverse problem: predicting chromatin profiles using metabolic data. "
   ]
  },
  {
   "cell_type": "code",
   "execution_count": 58,
   "metadata": {
    "ExecuteTime": {
     "end_time": "2020-10-06T20:12:59.876480Z",
     "start_time": "2020-10-06T20:12:59.870689Z"
    },
    "id": "yWCE6OSJFtoU"
   },
   "outputs": [],
   "source": [
    "# Split the CCLE data into a validation set\n",
    "Xtrain, Xval, Ytrain, Yval = train_test_split(\n",
    "    MET_norm, GCP_norm, test_size=0.3, random_state=0\n",
    ")\n",
    "names = [\n",
    "         '/home/scampit/Data/Models/Met2GCP/rf.pkl',\n",
    "         '/home/scampit/Data/Models/Met2GCP/gb.pkl',\n",
    "         '/home/scampit/Data/Models/Met2GCP/et.pkl',\n",
    "         '/home/scampit/Data/Models/Met2GCP/xgb.pkl'\n",
    "]"
   ]
  },
  {
   "cell_type": "markdown",
   "metadata": {
    "id": "QgxOr1caKAaE"
   },
   "source": [
    "Finally, let's train the models."
   ]
  },
  {
   "cell_type": "code",
   "execution_count": 120,
   "metadata": {
    "ExecuteTime": {
     "end_time": "2020-10-06T22:49:40.211919Z",
     "start_time": "2020-10-06T22:49:40.189575Z"
    },
    "id": "EGZsVJxNKCpe"
   },
   "outputs": [
    {
     "name": "stderr",
     "output_type": "stream",
     "text": [
      "[                                                                        ]   0%\r"
     ]
    },
    {
     "ename": "ValueError",
     "evalue": "Invalid parameter max_depth for estimator MultiOutputRegressor(estimator=RandomForestRegressor()). Check the list of available parameters with `estimator.get_params().keys()`.",
     "output_type": "error",
     "traceback": [
      "\u001b[0;31m---------------------------------------------------------------------------\u001b[0m",
      "\u001b[0;31mValueError\u001b[0m                                Traceback (most recent call last)",
      "\u001b[0;32m<ipython-input-120-1721574acbff>\u001b[0m in \u001b[0;36m<module>\u001b[0;34m\u001b[0m\n\u001b[0;32m----> 1\u001b[0;31m \u001b[0mtrain_models\u001b[0m\u001b[0;34m(\u001b[0m\u001b[0mmodels\u001b[0m\u001b[0;34m,\u001b[0m \u001b[0mparams\u001b[0m\u001b[0;34m,\u001b[0m \u001b[0mXtrain\u001b[0m\u001b[0;34m,\u001b[0m \u001b[0mYtrain\u001b[0m\u001b[0;34m,\u001b[0m \u001b[0mkfold\u001b[0m\u001b[0;34m,\u001b[0m \u001b[0mnames\u001b[0m\u001b[0;34m)\u001b[0m\u001b[0;34m\u001b[0m\u001b[0;34m\u001b[0m\u001b[0m\n\u001b[0m",
      "\u001b[0;32m<ipython-input-119-d3cb0b528d07>\u001b[0m in \u001b[0;36mtrain_models\u001b[0;34m(models, params, Xtrain, Ytrain, kfold, filename)\u001b[0m\n\u001b[1;32m     29\u001b[0m             \u001b[0mmdls\u001b[0m \u001b[0;34m=\u001b[0m\u001b[0;34m[\u001b[0m\u001b[0;34m]\u001b[0m\u001b[0;34m\u001b[0m\u001b[0;34m\u001b[0m\u001b[0m\n\u001b[1;32m     30\u001b[0m             \u001b[0mbar\u001b[0m\u001b[0;34m.\u001b[0m\u001b[0mstart\u001b[0m\u001b[0;34m(\u001b[0m\u001b[0;34m)\u001b[0m\u001b[0;34m\u001b[0m\u001b[0;34m\u001b[0m\u001b[0m\n\u001b[0;32m---> 31\u001b[0;31m             \u001b[0m_\u001b[0m \u001b[0;34m=\u001b[0m \u001b[0mopt\u001b[0m\u001b[0;34m.\u001b[0m\u001b[0mfit\u001b[0m\u001b[0;34m(\u001b[0m\u001b[0mXtrain\u001b[0m\u001b[0;34m,\u001b[0m \u001b[0mYtrain\u001b[0m\u001b[0;34m)\u001b[0m\u001b[0;34m\u001b[0m\u001b[0;34m\u001b[0m\u001b[0m\n\u001b[0m\u001b[1;32m     32\u001b[0m             \u001b[0mmdls\u001b[0m\u001b[0;34m.\u001b[0m\u001b[0mappend\u001b[0m\u001b[0;34m(\u001b[0m\u001b[0mopt\u001b[0m\u001b[0;34m)\u001b[0m\u001b[0;34m\u001b[0m\u001b[0;34m\u001b[0m\u001b[0m\n\u001b[1;32m     33\u001b[0m             \u001b[0mdump\u001b[0m\u001b[0;34m(\u001b[0m\u001b[0mres\u001b[0m\u001b[0;34m=\u001b[0m\u001b[0mmdls\u001b[0m\u001b[0;34m,\u001b[0m \u001b[0mfilename\u001b[0m\u001b[0;34m=\u001b[0m\u001b[0mfilename\u001b[0m\u001b[0;34m[\u001b[0m\u001b[0mi\u001b[0m\u001b[0;34m]\u001b[0m\u001b[0;34m)\u001b[0m\u001b[0;34m\u001b[0m\u001b[0;34m\u001b[0m\u001b[0m\n",
      "\u001b[0;32m~/.local/lib/python3.8/site-packages/skopt/searchcv.py\u001b[0m in \u001b[0;36mfit\u001b[0;34m(self, X, y, groups, callback)\u001b[0m\n\u001b[1;32m    690\u001b[0m                 \u001b[0mn_points_adjusted\u001b[0m \u001b[0;34m=\u001b[0m \u001b[0mmin\u001b[0m\u001b[0;34m(\u001b[0m\u001b[0mn_iter\u001b[0m\u001b[0;34m,\u001b[0m \u001b[0mn_points\u001b[0m\u001b[0;34m)\u001b[0m\u001b[0;34m\u001b[0m\u001b[0;34m\u001b[0m\u001b[0m\n\u001b[1;32m    691\u001b[0m \u001b[0;34m\u001b[0m\u001b[0m\n\u001b[0;32m--> 692\u001b[0;31m                 optim_result = self._step(\n\u001b[0m\u001b[1;32m    693\u001b[0m                     \u001b[0mX\u001b[0m\u001b[0;34m,\u001b[0m \u001b[0my\u001b[0m\u001b[0;34m,\u001b[0m \u001b[0msearch_space\u001b[0m\u001b[0;34m,\u001b[0m \u001b[0moptimizer\u001b[0m\u001b[0;34m,\u001b[0m\u001b[0;34m\u001b[0m\u001b[0;34m\u001b[0m\u001b[0m\n\u001b[1;32m    694\u001b[0m                     \u001b[0mgroups\u001b[0m\u001b[0;34m=\u001b[0m\u001b[0mgroups\u001b[0m\u001b[0;34m,\u001b[0m \u001b[0mn_points\u001b[0m\u001b[0;34m=\u001b[0m\u001b[0mn_points_adjusted\u001b[0m\u001b[0;34m\u001b[0m\u001b[0;34m\u001b[0m\u001b[0m\n",
      "\u001b[0;32m~/.local/lib/python3.8/site-packages/skopt/searchcv.py\u001b[0m in \u001b[0;36m_step\u001b[0;34m(self, X, y, search_space, optimizer, groups, n_points)\u001b[0m\n\u001b[1;32m    577\u001b[0m         \u001b[0mrefit\u001b[0m \u001b[0;34m=\u001b[0m \u001b[0mself\u001b[0m\u001b[0;34m.\u001b[0m\u001b[0mrefit\u001b[0m\u001b[0;34m\u001b[0m\u001b[0;34m\u001b[0m\u001b[0m\n\u001b[1;32m    578\u001b[0m         \u001b[0mself\u001b[0m\u001b[0;34m.\u001b[0m\u001b[0mrefit\u001b[0m \u001b[0;34m=\u001b[0m \u001b[0;32mFalse\u001b[0m\u001b[0;34m\u001b[0m\u001b[0;34m\u001b[0m\u001b[0m\n\u001b[0;32m--> 579\u001b[0;31m         \u001b[0mself\u001b[0m\u001b[0;34m.\u001b[0m\u001b[0m_fit\u001b[0m\u001b[0;34m(\u001b[0m\u001b[0mX\u001b[0m\u001b[0;34m,\u001b[0m \u001b[0my\u001b[0m\u001b[0;34m,\u001b[0m \u001b[0mgroups\u001b[0m\u001b[0;34m,\u001b[0m \u001b[0mparams_dict\u001b[0m\u001b[0;34m)\u001b[0m\u001b[0;34m\u001b[0m\u001b[0;34m\u001b[0m\u001b[0m\n\u001b[0m\u001b[1;32m    580\u001b[0m         \u001b[0mself\u001b[0m\u001b[0;34m.\u001b[0m\u001b[0mrefit\u001b[0m \u001b[0;34m=\u001b[0m \u001b[0mrefit\u001b[0m\u001b[0;34m\u001b[0m\u001b[0;34m\u001b[0m\u001b[0m\n\u001b[1;32m    581\u001b[0m \u001b[0;34m\u001b[0m\u001b[0m\n",
      "\u001b[0;32m~/.local/lib/python3.8/site-packages/skopt/searchcv.py\u001b[0m in \u001b[0;36m_fit\u001b[0;34m(self, X, y, groups, parameter_iterable)\u001b[0m\n\u001b[1;32m    408\u001b[0m \u001b[0;34m\u001b[0m\u001b[0m\n\u001b[1;32m    409\u001b[0m         \u001b[0mcv_iter\u001b[0m \u001b[0;34m=\u001b[0m \u001b[0mlist\u001b[0m\u001b[0;34m(\u001b[0m\u001b[0mcv\u001b[0m\u001b[0;34m.\u001b[0m\u001b[0msplit\u001b[0m\u001b[0;34m(\u001b[0m\u001b[0mX\u001b[0m\u001b[0;34m,\u001b[0m \u001b[0my\u001b[0m\u001b[0;34m,\u001b[0m \u001b[0mgroups\u001b[0m\u001b[0;34m)\u001b[0m\u001b[0;34m)\u001b[0m\u001b[0;34m\u001b[0m\u001b[0;34m\u001b[0m\u001b[0m\n\u001b[0;32m--> 410\u001b[0;31m         out = Parallel(\n\u001b[0m\u001b[1;32m    411\u001b[0m             \u001b[0mn_jobs\u001b[0m\u001b[0;34m=\u001b[0m\u001b[0mself\u001b[0m\u001b[0;34m.\u001b[0m\u001b[0mn_jobs\u001b[0m\u001b[0;34m,\u001b[0m \u001b[0mverbose\u001b[0m\u001b[0;34m=\u001b[0m\u001b[0mself\u001b[0m\u001b[0;34m.\u001b[0m\u001b[0mverbose\u001b[0m\u001b[0;34m,\u001b[0m\u001b[0;34m\u001b[0m\u001b[0;34m\u001b[0m\u001b[0m\n\u001b[1;32m    412\u001b[0m             \u001b[0mpre_dispatch\u001b[0m\u001b[0;34m=\u001b[0m\u001b[0mpre_dispatch\u001b[0m\u001b[0;34m\u001b[0m\u001b[0;34m\u001b[0m\u001b[0m\n",
      "\u001b[0;32m~/.local/lib/python3.8/site-packages/joblib/parallel.py\u001b[0m in \u001b[0;36m__call__\u001b[0;34m(self, iterable)\u001b[0m\n\u001b[1;32m   1027\u001b[0m             \u001b[0;31m# remaining jobs.\u001b[0m\u001b[0;34m\u001b[0m\u001b[0;34m\u001b[0m\u001b[0;34m\u001b[0m\u001b[0m\n\u001b[1;32m   1028\u001b[0m             \u001b[0mself\u001b[0m\u001b[0;34m.\u001b[0m\u001b[0m_iterating\u001b[0m \u001b[0;34m=\u001b[0m \u001b[0;32mFalse\u001b[0m\u001b[0;34m\u001b[0m\u001b[0;34m\u001b[0m\u001b[0m\n\u001b[0;32m-> 1029\u001b[0;31m             \u001b[0;32mif\u001b[0m \u001b[0mself\u001b[0m\u001b[0;34m.\u001b[0m\u001b[0mdispatch_one_batch\u001b[0m\u001b[0;34m(\u001b[0m\u001b[0miterator\u001b[0m\u001b[0;34m)\u001b[0m\u001b[0;34m:\u001b[0m\u001b[0;34m\u001b[0m\u001b[0;34m\u001b[0m\u001b[0m\n\u001b[0m\u001b[1;32m   1030\u001b[0m                 \u001b[0mself\u001b[0m\u001b[0;34m.\u001b[0m\u001b[0m_iterating\u001b[0m \u001b[0;34m=\u001b[0m \u001b[0mself\u001b[0m\u001b[0;34m.\u001b[0m\u001b[0m_original_iterator\u001b[0m \u001b[0;32mis\u001b[0m \u001b[0;32mnot\u001b[0m \u001b[0;32mNone\u001b[0m\u001b[0;34m\u001b[0m\u001b[0;34m\u001b[0m\u001b[0m\n\u001b[1;32m   1031\u001b[0m \u001b[0;34m\u001b[0m\u001b[0m\n",
      "\u001b[0;32m~/.local/lib/python3.8/site-packages/joblib/parallel.py\u001b[0m in \u001b[0;36mdispatch_one_batch\u001b[0;34m(self, iterator)\u001b[0m\n\u001b[1;32m    845\u001b[0m                 \u001b[0;32mreturn\u001b[0m \u001b[0;32mFalse\u001b[0m\u001b[0;34m\u001b[0m\u001b[0;34m\u001b[0m\u001b[0m\n\u001b[1;32m    846\u001b[0m             \u001b[0;32melse\u001b[0m\u001b[0;34m:\u001b[0m\u001b[0;34m\u001b[0m\u001b[0;34m\u001b[0m\u001b[0m\n\u001b[0;32m--> 847\u001b[0;31m                 \u001b[0mself\u001b[0m\u001b[0;34m.\u001b[0m\u001b[0m_dispatch\u001b[0m\u001b[0;34m(\u001b[0m\u001b[0mtasks\u001b[0m\u001b[0;34m)\u001b[0m\u001b[0;34m\u001b[0m\u001b[0;34m\u001b[0m\u001b[0m\n\u001b[0m\u001b[1;32m    848\u001b[0m                 \u001b[0;32mreturn\u001b[0m \u001b[0;32mTrue\u001b[0m\u001b[0;34m\u001b[0m\u001b[0;34m\u001b[0m\u001b[0m\n\u001b[1;32m    849\u001b[0m \u001b[0;34m\u001b[0m\u001b[0m\n",
      "\u001b[0;32m~/.local/lib/python3.8/site-packages/joblib/parallel.py\u001b[0m in \u001b[0;36m_dispatch\u001b[0;34m(self, batch)\u001b[0m\n\u001b[1;32m    763\u001b[0m         \u001b[0;32mwith\u001b[0m \u001b[0mself\u001b[0m\u001b[0;34m.\u001b[0m\u001b[0m_lock\u001b[0m\u001b[0;34m:\u001b[0m\u001b[0;34m\u001b[0m\u001b[0;34m\u001b[0m\u001b[0m\n\u001b[1;32m    764\u001b[0m             \u001b[0mjob_idx\u001b[0m \u001b[0;34m=\u001b[0m \u001b[0mlen\u001b[0m\u001b[0;34m(\u001b[0m\u001b[0mself\u001b[0m\u001b[0;34m.\u001b[0m\u001b[0m_jobs\u001b[0m\u001b[0;34m)\u001b[0m\u001b[0;34m\u001b[0m\u001b[0;34m\u001b[0m\u001b[0m\n\u001b[0;32m--> 765\u001b[0;31m             \u001b[0mjob\u001b[0m \u001b[0;34m=\u001b[0m \u001b[0mself\u001b[0m\u001b[0;34m.\u001b[0m\u001b[0m_backend\u001b[0m\u001b[0;34m.\u001b[0m\u001b[0mapply_async\u001b[0m\u001b[0;34m(\u001b[0m\u001b[0mbatch\u001b[0m\u001b[0;34m,\u001b[0m \u001b[0mcallback\u001b[0m\u001b[0;34m=\u001b[0m\u001b[0mcb\u001b[0m\u001b[0;34m)\u001b[0m\u001b[0;34m\u001b[0m\u001b[0;34m\u001b[0m\u001b[0m\n\u001b[0m\u001b[1;32m    766\u001b[0m             \u001b[0;31m# A job can complete so quickly than its callback is\u001b[0m\u001b[0;34m\u001b[0m\u001b[0;34m\u001b[0m\u001b[0;34m\u001b[0m\u001b[0m\n\u001b[1;32m    767\u001b[0m             \u001b[0;31m# called before we get here, causing self._jobs to\u001b[0m\u001b[0;34m\u001b[0m\u001b[0;34m\u001b[0m\u001b[0;34m\u001b[0m\u001b[0m\n",
      "\u001b[0;32m~/.local/lib/python3.8/site-packages/joblib/_parallel_backends.py\u001b[0m in \u001b[0;36mapply_async\u001b[0;34m(self, func, callback)\u001b[0m\n\u001b[1;32m    206\u001b[0m     \u001b[0;32mdef\u001b[0m \u001b[0mapply_async\u001b[0m\u001b[0;34m(\u001b[0m\u001b[0mself\u001b[0m\u001b[0;34m,\u001b[0m \u001b[0mfunc\u001b[0m\u001b[0;34m,\u001b[0m \u001b[0mcallback\u001b[0m\u001b[0;34m=\u001b[0m\u001b[0;32mNone\u001b[0m\u001b[0;34m)\u001b[0m\u001b[0;34m:\u001b[0m\u001b[0;34m\u001b[0m\u001b[0;34m\u001b[0m\u001b[0m\n\u001b[1;32m    207\u001b[0m         \u001b[0;34m\"\"\"Schedule a func to be run\"\"\"\u001b[0m\u001b[0;34m\u001b[0m\u001b[0;34m\u001b[0m\u001b[0m\n\u001b[0;32m--> 208\u001b[0;31m         \u001b[0mresult\u001b[0m \u001b[0;34m=\u001b[0m \u001b[0mImmediateResult\u001b[0m\u001b[0;34m(\u001b[0m\u001b[0mfunc\u001b[0m\u001b[0;34m)\u001b[0m\u001b[0;34m\u001b[0m\u001b[0;34m\u001b[0m\u001b[0m\n\u001b[0m\u001b[1;32m    209\u001b[0m         \u001b[0;32mif\u001b[0m \u001b[0mcallback\u001b[0m\u001b[0;34m:\u001b[0m\u001b[0;34m\u001b[0m\u001b[0;34m\u001b[0m\u001b[0m\n\u001b[1;32m    210\u001b[0m             \u001b[0mcallback\u001b[0m\u001b[0;34m(\u001b[0m\u001b[0mresult\u001b[0m\u001b[0;34m)\u001b[0m\u001b[0;34m\u001b[0m\u001b[0;34m\u001b[0m\u001b[0m\n",
      "\u001b[0;32m~/.local/lib/python3.8/site-packages/joblib/_parallel_backends.py\u001b[0m in \u001b[0;36m__init__\u001b[0;34m(self, batch)\u001b[0m\n\u001b[1;32m    570\u001b[0m         \u001b[0;31m# Don't delay the application, to avoid keeping the input\u001b[0m\u001b[0;34m\u001b[0m\u001b[0;34m\u001b[0m\u001b[0;34m\u001b[0m\u001b[0m\n\u001b[1;32m    571\u001b[0m         \u001b[0;31m# arguments in memory\u001b[0m\u001b[0;34m\u001b[0m\u001b[0;34m\u001b[0m\u001b[0;34m\u001b[0m\u001b[0m\n\u001b[0;32m--> 572\u001b[0;31m         \u001b[0mself\u001b[0m\u001b[0;34m.\u001b[0m\u001b[0mresults\u001b[0m \u001b[0;34m=\u001b[0m \u001b[0mbatch\u001b[0m\u001b[0;34m(\u001b[0m\u001b[0;34m)\u001b[0m\u001b[0;34m\u001b[0m\u001b[0;34m\u001b[0m\u001b[0m\n\u001b[0m\u001b[1;32m    573\u001b[0m \u001b[0;34m\u001b[0m\u001b[0m\n\u001b[1;32m    574\u001b[0m     \u001b[0;32mdef\u001b[0m \u001b[0mget\u001b[0m\u001b[0;34m(\u001b[0m\u001b[0mself\u001b[0m\u001b[0;34m)\u001b[0m\u001b[0;34m:\u001b[0m\u001b[0;34m\u001b[0m\u001b[0;34m\u001b[0m\u001b[0m\n",
      "\u001b[0;32m~/.local/lib/python3.8/site-packages/joblib/parallel.py\u001b[0m in \u001b[0;36m__call__\u001b[0;34m(self)\u001b[0m\n\u001b[1;32m    250\u001b[0m         \u001b[0;31m# change the default number of processes to -1\u001b[0m\u001b[0;34m\u001b[0m\u001b[0;34m\u001b[0m\u001b[0;34m\u001b[0m\u001b[0m\n\u001b[1;32m    251\u001b[0m         \u001b[0;32mwith\u001b[0m \u001b[0mparallel_backend\u001b[0m\u001b[0;34m(\u001b[0m\u001b[0mself\u001b[0m\u001b[0;34m.\u001b[0m\u001b[0m_backend\u001b[0m\u001b[0;34m,\u001b[0m \u001b[0mn_jobs\u001b[0m\u001b[0;34m=\u001b[0m\u001b[0mself\u001b[0m\u001b[0;34m.\u001b[0m\u001b[0m_n_jobs\u001b[0m\u001b[0;34m)\u001b[0m\u001b[0;34m:\u001b[0m\u001b[0;34m\u001b[0m\u001b[0;34m\u001b[0m\u001b[0m\n\u001b[0;32m--> 252\u001b[0;31m             return [func(*args, **kwargs)\n\u001b[0m\u001b[1;32m    253\u001b[0m                     for func, args, kwargs in self.items]\n\u001b[1;32m    254\u001b[0m \u001b[0;34m\u001b[0m\u001b[0m\n",
      "\u001b[0;32m~/.local/lib/python3.8/site-packages/joblib/parallel.py\u001b[0m in \u001b[0;36m<listcomp>\u001b[0;34m(.0)\u001b[0m\n\u001b[1;32m    250\u001b[0m         \u001b[0;31m# change the default number of processes to -1\u001b[0m\u001b[0;34m\u001b[0m\u001b[0;34m\u001b[0m\u001b[0;34m\u001b[0m\u001b[0m\n\u001b[1;32m    251\u001b[0m         \u001b[0;32mwith\u001b[0m \u001b[0mparallel_backend\u001b[0m\u001b[0;34m(\u001b[0m\u001b[0mself\u001b[0m\u001b[0;34m.\u001b[0m\u001b[0m_backend\u001b[0m\u001b[0;34m,\u001b[0m \u001b[0mn_jobs\u001b[0m\u001b[0;34m=\u001b[0m\u001b[0mself\u001b[0m\u001b[0;34m.\u001b[0m\u001b[0m_n_jobs\u001b[0m\u001b[0;34m)\u001b[0m\u001b[0;34m:\u001b[0m\u001b[0;34m\u001b[0m\u001b[0;34m\u001b[0m\u001b[0m\n\u001b[0;32m--> 252\u001b[0;31m             return [func(*args, **kwargs)\n\u001b[0m\u001b[1;32m    253\u001b[0m                     for func, args, kwargs in self.items]\n\u001b[1;32m    254\u001b[0m \u001b[0;34m\u001b[0m\u001b[0m\n",
      "\u001b[0;32m~/.local/lib/python3.8/site-packages/sklearn/model_selection/_validation.py\u001b[0m in \u001b[0;36m_fit_and_score\u001b[0;34m(estimator, X, y, scorer, train, test, verbose, parameters, fit_params, return_train_score, return_parameters, return_n_test_samples, return_times, return_estimator, error_score)\u001b[0m\n\u001b[1;32m    518\u001b[0m             \u001b[0mcloned_parameters\u001b[0m\u001b[0;34m[\u001b[0m\u001b[0mk\u001b[0m\u001b[0;34m]\u001b[0m \u001b[0;34m=\u001b[0m \u001b[0mclone\u001b[0m\u001b[0;34m(\u001b[0m\u001b[0mv\u001b[0m\u001b[0;34m,\u001b[0m \u001b[0msafe\u001b[0m\u001b[0;34m=\u001b[0m\u001b[0;32mFalse\u001b[0m\u001b[0;34m)\u001b[0m\u001b[0;34m\u001b[0m\u001b[0;34m\u001b[0m\u001b[0m\n\u001b[1;32m    519\u001b[0m \u001b[0;34m\u001b[0m\u001b[0m\n\u001b[0;32m--> 520\u001b[0;31m         \u001b[0mestimator\u001b[0m \u001b[0;34m=\u001b[0m \u001b[0mestimator\u001b[0m\u001b[0;34m.\u001b[0m\u001b[0mset_params\u001b[0m\u001b[0;34m(\u001b[0m\u001b[0;34m**\u001b[0m\u001b[0mcloned_parameters\u001b[0m\u001b[0;34m)\u001b[0m\u001b[0;34m\u001b[0m\u001b[0;34m\u001b[0m\u001b[0m\n\u001b[0m\u001b[1;32m    521\u001b[0m \u001b[0;34m\u001b[0m\u001b[0m\n\u001b[1;32m    522\u001b[0m     \u001b[0mstart_time\u001b[0m \u001b[0;34m=\u001b[0m \u001b[0mtime\u001b[0m\u001b[0;34m.\u001b[0m\u001b[0mtime\u001b[0m\u001b[0;34m(\u001b[0m\u001b[0;34m)\u001b[0m\u001b[0;34m\u001b[0m\u001b[0;34m\u001b[0m\u001b[0m\n",
      "\u001b[0;32m~/.local/lib/python3.8/site-packages/sklearn/base.py\u001b[0m in \u001b[0;36mset_params\u001b[0;34m(self, **params)\u001b[0m\n\u001b[1;32m    247\u001b[0m             \u001b[0mkey\u001b[0m\u001b[0;34m,\u001b[0m \u001b[0mdelim\u001b[0m\u001b[0;34m,\u001b[0m \u001b[0msub_key\u001b[0m \u001b[0;34m=\u001b[0m \u001b[0mkey\u001b[0m\u001b[0;34m.\u001b[0m\u001b[0mpartition\u001b[0m\u001b[0;34m(\u001b[0m\u001b[0;34m'__'\u001b[0m\u001b[0;34m)\u001b[0m\u001b[0;34m\u001b[0m\u001b[0;34m\u001b[0m\u001b[0m\n\u001b[1;32m    248\u001b[0m             \u001b[0;32mif\u001b[0m \u001b[0mkey\u001b[0m \u001b[0;32mnot\u001b[0m \u001b[0;32min\u001b[0m \u001b[0mvalid_params\u001b[0m\u001b[0;34m:\u001b[0m\u001b[0;34m\u001b[0m\u001b[0;34m\u001b[0m\u001b[0m\n\u001b[0;32m--> 249\u001b[0;31m                 raise ValueError('Invalid parameter %s for estimator %s. '\n\u001b[0m\u001b[1;32m    250\u001b[0m                                  \u001b[0;34m'Check the list of available parameters '\u001b[0m\u001b[0;34m\u001b[0m\u001b[0;34m\u001b[0m\u001b[0m\n\u001b[1;32m    251\u001b[0m                                  \u001b[0;34m'with `estimator.get_params().keys()`.'\u001b[0m \u001b[0;34m%\u001b[0m\u001b[0;34m\u001b[0m\u001b[0;34m\u001b[0m\u001b[0m\n",
      "\u001b[0;31mValueError\u001b[0m: Invalid parameter max_depth for estimator MultiOutputRegressor(estimator=RandomForestRegressor()). Check the list of available parameters with `estimator.get_params().keys()`."
     ]
    }
   ],
   "source": [
    "train_models(models, params, Xtrain, Ytrain, kfold, names)"
   ]
  },
  {
   "cell_type": "code",
   "execution_count": 129,
   "metadata": {
    "ExecuteTime": {
     "end_time": "2020-10-06T22:55:03.029027Z",
     "start_time": "2020-10-06T22:55:03.019204Z"
    }
   },
   "outputs": [
    {
     "data": {
      "text/plain": [
       "dict_keys(['bootstrap', 'ccp_alpha', 'criterion', 'max_depth', 'max_features', 'max_leaf_nodes', 'max_samples', 'min_impurity_decrease', 'min_impurity_split', 'min_samples_leaf', 'min_samples_split', 'min_weight_fraction_leaf', 'n_estimators', 'n_jobs', 'oob_score', 'random_state', 'verbose', 'warm_start'])"
      ]
     },
     "execution_count": 129,
     "metadata": {},
     "output_type": "execute_result"
    }
   ],
   "source": [
    "RandomForestRegressor().get_params().keys()"
   ]
  },
  {
   "cell_type": "markdown",
   "metadata": {
    "id": "aSrmHaT-KjVp"
   },
   "source": [
    "# Evaluating the models\n",
    "\n",
    "## GCP to MET models\n",
    "Now that I have some models trained up, it's time to create some data structures that will have the metrics I want. First, let's grab the validatoin set again from the `train_test_split()` function. Because the seed is set, it should get me the same entries."
   ]
  },
  {
   "cell_type": "code",
   "execution_count": 63,
   "metadata": {
    "ExecuteTime": {
     "end_time": "2020-10-06T20:15:26.495095Z",
     "start_time": "2020-10-06T20:15:26.487632Z"
    },
    "id": "rAT3-9wzKjcn"
   },
   "outputs": [],
   "source": [
    "# Split the CCLE data into a validation set\n",
    "Xtrain, Xval, Ytrain, Yval = train_test_split(\n",
    "    GCP_norm, MET_norm, test_size=0.3, random_state=0\n",
    ")"
   ]
  },
  {
   "cell_type": "markdown",
   "metadata": {
    "id": "40-KKUlAUWyD"
   },
   "source": [
    "Next, we'll load some libraries we'll be using to evaluate the predicted value against the true value."
   ]
  },
  {
   "cell_type": "code",
   "execution_count": 64,
   "metadata": {
    "ExecuteTime": {
     "end_time": "2020-10-06T20:15:33.196769Z",
     "start_time": "2020-10-06T20:15:33.194677Z"
    },
    "id": "kDFtTuZpUXJR"
   },
   "outputs": [],
   "source": [
    "from scipy.stats import pearsonr\n",
    "from sklearn.metrics import mean_squared_error\n",
    "from sklearn.metrics import mean_absolute_error"
   ]
  },
  {
   "cell_type": "markdown",
   "metadata": {
    "id": "6pEoBTkkUe2R"
   },
   "source": [
    "Let's now load the models we have trained to predict metabolite values from chromatin profiles."
   ]
  },
  {
   "cell_type": "code",
   "execution_count": 65,
   "metadata": {
    "ExecuteTime": {
     "end_time": "2020-10-06T20:15:39.983121Z",
     "start_time": "2020-10-06T20:15:39.867016Z"
    },
    "id": "9Gq1xEklUe_E"
   },
   "outputs": [],
   "source": [
    "mdls = [load('/home/scampit/Data/Models/GCP2Met/rf.pkl'),\n",
    "        load('/home/scampit/Data/Models/GCP2Met/gb.pkl'),\n",
    "        load('/home/scampit/Data/Models/GCP2Met/et.pkl'),\n",
    "        load('/home/scampit/Data/Models/GCP2Met/xgb.pkl')\n",
    "]"
   ]
  },
  {
   "cell_type": "markdown",
   "metadata": {
    "id": "t4_wCBP1UGhl"
   },
   "source": [
    "The `evaluate_models()` function will compute evaluation metrics and spit out the final metrics of interest."
   ]
  },
  {
   "cell_type": "code",
   "execution_count": 82,
   "metadata": {
    "ExecuteTime": {
     "end_time": "2020-10-06T20:29:31.340015Z",
     "start_time": "2020-10-06T20:29:31.333102Z"
    },
    "id": "2yERKJNqUGqe"
   },
   "outputs": [],
   "source": [
    "def evaluate_models(models, Xval, Yval):\n",
    "    \"\"\"\n",
    "    evaluate_models returns metrics from the model predictions, include the pearson\n",
    "    correlation coefficient, coefficient of determination, MSE, and MAE.\n",
    "\n",
    "    :param models:         A scikit-learn model object or list of model objects.\n",
    "    :param Xval:           A numpy array or pandas dataframe containing \n",
    "                         validation set input data.\n",
    "    :param Yval:           A numpy array or pandas dataframe containing \n",
    "                         validation set output data.\n",
    "    :return final_metrics: A pandas dataframe or list of dfs containing the final \n",
    "                         evaluation metrics\n",
    "    \"\"\"\n",
    "\n",
    "    final_metrics = []\n",
    "    for j in range(len(models)):\n",
    "        # Iterate through model objects\n",
    "        m = models[j]\n",
    "\n",
    "        r_values = list()\n",
    "        p_values = list()\n",
    "        mse_values = list()\n",
    "        mae_values = list()\n",
    "\n",
    "        # Iterate through features\n",
    "        for i in range(len(m)):\n",
    "            mdl = m[i]\n",
    "            ypred = mdl.predict(Xval)\n",
    "            r, pvalue = pearsonr(ypred, Yval[:, i])\n",
    "            mse = mean_squared_error(ypred, Yval[:, i])\n",
    "            mae = mean_absolute_error(ypred, Yval[:, i])\n",
    "\n",
    "            r_values.append(r)\n",
    "            p_values.append(pvalue)\n",
    "            mae_values.append(mae)\n",
    "            mse_values.append(mse)\n",
    "\n",
    "        # Save the metrics in a dataframe\n",
    "        pre_df = {\n",
    "                  \"Pearson\": r_values, \n",
    "                  \"Pvalue\":  p_values,\n",
    "                  \"MSE\":     mse_values,\n",
    "                  \"MAE\":     mae_values\n",
    "                  }\n",
    "        df = pd.DataFrame(pre_df)\n",
    "        final_metrics.append(df)\n",
    "\n",
    "    return final_metrics"
   ]
  },
  {
   "cell_type": "markdown",
   "metadata": {
    "id": "dDAfhtHSUG0U"
   },
   "source": [
    "Let's run the function on the list of regressors I have trained. Then we'll perform the following operations:\n",
    "\n",
    "  1. Concatenate the results into a single dataframe\n",
    "  2. Append the metabolite names to the list\n",
    "  3. Sort the values in ascending alphabetical order by metabolite name\n",
    "  4. Save the final results to the Google Sheet."
   ]
  },
  {
   "cell_type": "code",
   "execution_count": 83,
   "metadata": {
    "ExecuteTime": {
     "end_time": "2020-10-06T20:29:46.599687Z",
     "start_time": "2020-10-06T20:29:38.065620Z"
    },
    "id": "69pEQ6dcUG8u"
   },
   "outputs": [],
   "source": [
    "final_metrics = evaluate_models(mdls, Xval, Yval)\n",
    "\n",
    "# Flatten the array so that \n",
    "final_metrics = pd.concat(final_metrics, axis=1)\n",
    "final_metrics[\"Metabolites\"] = metabolites\n",
    "final_metrics = final_metrics.sort_values(by=\"Metabolites\", \n",
    "                                          ascending=True)\n",
    "\n",
    "path = '/home/scampit/Data/Models/GCP2Met/gcp2met_metrics.csv'\n",
    "final_metrics.to_csv(path)"
   ]
  },
  {
   "cell_type": "code",
   "execution_count": 78,
   "metadata": {
    "ExecuteTime": {
     "end_time": "2020-10-06T20:20:51.982050Z",
     "start_time": "2020-10-06T20:20:51.978165Z"
    }
   },
   "outputs": [
    {
     "name": "stdout",
     "output_type": "stream",
     "text": [
      "0                               Citrate\n",
      "1                            Isocitrate\n",
      "2                              Fumarate\n",
      "3                                   NAD\n",
      "4                                  NADP\n",
      "                     ...               \n",
      "620    5-adenosylhomocysteine/Glutamate\n",
      "621       Alpha-ketoglutarate/Glutamate\n",
      "622                 Succinate/Glutamate\n",
      "623                 Glutamine/Glutamate\n",
      "624                 Aspartate/Glutamate\n",
      "Name: Metabolites, Length: 625, dtype: object\n"
     ]
    }
   ],
   "source": [
    "print(final_metrics[\"Metabolites\"])"
   ]
  },
  {
   "cell_type": "markdown",
   "metadata": {
    "id": "kJgFGtoqVNhZ"
   },
   "source": [
    "## MET to GCP models\n",
    "Now let's do the reverse using the same operations described above."
   ]
  },
  {
   "cell_type": "code",
   "execution_count": null,
   "metadata": {
    "id": "JQTCsn0JVNnq"
   },
   "outputs": [],
   "source": [
    "# Split the CCLE data into a validation set\n",
    "Xtrain, Xval, Ytrain, Yval = train_test_split(\n",
    "    MET_norm, GCP_norm, test_size=0.3, random_state=0\n",
    ")\n",
    "\n",
    "mdls = [load('/content/drive/My Drive/Work/Analysis/eGEMM/ML/Nonlinear models/MET2GCP/rf.pkl'),\n",
    "        load('/content/drive/My Drive/Work/Analysis/eGEMM/ML/Nonlinear models/MET2GCP/gb.pkl'),\n",
    "        load('/content/drive/My Drive/Work/Analysis/eGEMM/ML/Nonlinear models/MET2GCP/et.pkl'),\n",
    "        load('/content/drive/My Drive/Work/Analysis/eGEMM/ML/Nonlinear models/MET2GCP/xgb.pkl')\n",
    "]\n",
    "\n",
    "final_metrics = evaluate_models(mdls, Xval, Yval)\n",
    "\n",
    "# Flatten the array so that \n",
    "final_metrics = pd.concat(final_metrics, axis=1)\n",
    "final_metrics[\"GCP\"] = gcps\n",
    "final_metrics = final_metrics.sort_values(by=[\"GCP\"], \n",
    "                                          axis=1, \n",
    "                                          ascending=True)\n",
    "\n",
    "url = 'https://docs.google.com/spreadsheets/d/1_tFjeBplSfozCw0VIU84j8d0NTm4CyOAFr9tXQfBLoE/edit?usp=sharing'\n",
    "sheetname = 'Met2GCP_Ratios_Nonlinear'\n",
    "\n",
    "save_gsheet(final_metrics, url, sheetname)"
   ]
  }
 ],
 "metadata": {
  "colab": {
   "collapsed_sections": [],
   "name": "Nonlinear_Regression.ipynb",
   "provenance": []
  },
  "kernelspec": {
   "display_name": "ml",
   "language": "python",
   "name": "ml"
  },
  "language_info": {
   "codemirror_mode": {
    "name": "ipython",
    "version": 3
   },
   "file_extension": ".py",
   "mimetype": "text/x-python",
   "name": "python",
   "nbconvert_exporter": "python",
   "pygments_lexer": "ipython3",
   "version": "3.8.5"
  },
  "latex_envs": {
   "LaTeX_envs_menu_present": true,
   "autoclose": false,
   "autocomplete": true,
   "bibliofile": "biblio.bib",
   "cite_by": "apalike",
   "current_citInitial": 1,
   "eqLabelWithNumbers": true,
   "eqNumInitial": 1,
   "hotkeys": {
    "equation": "Ctrl-E",
    "itemize": "Ctrl-I"
   },
   "labels_anchors": false,
   "latex_user_defs": false,
   "report_style_numbering": false,
   "user_envs_cfg": false
  },
  "toc": {
   "base_numbering": 1,
   "nav_menu": {},
   "number_sections": true,
   "sideBar": true,
   "skip_h1_title": false,
   "title_cell": "Table of Contents",
   "title_sidebar": "Contents",
   "toc_cell": false,
   "toc_position": {},
   "toc_section_display": true,
   "toc_window_display": false
  },
  "varInspector": {
   "cols": {
    "lenName": 16,
    "lenType": 16,
    "lenVar": 40
   },
   "kernels_config": {
    "python": {
     "delete_cmd_postfix": "",
     "delete_cmd_prefix": "del ",
     "library": "var_list.py",
     "varRefreshCmd": "print(var_dic_list())"
    },
    "r": {
     "delete_cmd_postfix": ") ",
     "delete_cmd_prefix": "rm(",
     "library": "var_list.r",
     "varRefreshCmd": "cat(var_dic_list()) "
    }
   },
   "types_to_exclude": [
    "module",
    "function",
    "builtin_function_or_method",
    "instance",
    "_Feature"
   ],
   "window_display": false
  }
 },
 "nbformat": 4,
 "nbformat_minor": 1
}
