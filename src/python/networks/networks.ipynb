{
 "cells": [
  {
   "cell_type": "markdown",
   "metadata": {},
   "source": [
    "# Reconstruction network analysis\n",
    "**Author:** Scott Campit"
   ]
  },
  {
   "cell_type": "markdown",
   "metadata": {},
   "source": [
    "## Summary\n",
    "This notebook constructs network representations of multiple -omics datasets and regulatory layers."
   ]
  },
  {
   "cell_type": "markdown",
   "metadata": {},
   "source": [
    "## Import libraries"
   ]
  },
  {
   "cell_type": "code",
   "execution_count": 1,
   "metadata": {
    "ExecuteTime": {
     "end_time": "2020-10-22T12:16:07.836958Z",
     "start_time": "2020-10-22T12:16:06.459362Z"
    }
   },
   "outputs": [],
   "source": [
    "# General Libraries\n",
    "import re\n",
    "import json\n",
    "\n",
    "# Data Science Libraries\n",
    "import matplotlib.pyplot as plt\n",
    "import pandas\n",
    "import numpy\n",
    "import networkx as nx\n",
    "\n",
    "# Constraint-based metabolic modeling toolboxes\n",
    "import cobra\n",
    "%matplotlib inline"
   ]
  },
  {
   "cell_type": "markdown",
   "metadata": {},
   "source": [
    "## Import Network Reconstruction\n",
    "The exercise below will use the epigenome-scale metabolic reconstruction as the metabolic network."
   ]
  },
  {
   "cell_type": "code",
   "execution_count": 2,
   "metadata": {
    "ExecuteTime": {
     "end_time": "2020-10-22T12:16:23.266112Z",
     "start_time": "2020-10-22T12:16:10.990984Z"
    }
   },
   "outputs": [
    {
     "name": "stderr",
     "output_type": "stream",
     "text": [
      "/home/scampit/PyEnvs/networks/lib/python3.8/site-packages/cobra/core/reaction.py:464: UserWarning: malformed gene_reaction_rule '(( 1737.1 ) and (( 1738.1 ) and ( 8050.1 )) and (( 5161.1 ) and ( 5162.1 ))) or ((( 5160.1 ) and ( 5162.1 )) and ( 1737.1 ) and (( 1738.1 ) and 8050.1 )))' for <Reaction PDHn at 0x7f85956c9c10>\n",
      "  warn(\"malformed gene_reaction_rule '%s' for %s\" % (new_rule, repr(self)))\n"
     ]
    }
   ],
   "source": [
    "model_path = '/home/scampit/Data/Reconstructions/eGEM/07132020.mat'\n",
    "model = cobra.io.load_matlab_model(model_path)"
   ]
  },
  {
   "cell_type": "code",
   "execution_count": null,
   "metadata": {},
   "outputs": [],
   "source": []
  },
  {
   "cell_type": "markdown",
   "metadata": {},
   "source": [
    "First, we'll get some of the key identifiers"
   ]
  },
  {
   "cell_type": "code",
   "execution_count": 41,
   "metadata": {
    "ExecuteTime": {
     "end_time": "2020-10-12T18:05:11.495075Z",
     "start_time": "2020-10-12T18:05:11.473769Z"
    }
   },
   "outputs": [
    {
     "data": {
      "text/plain": [
       "{'EX_ala_L_e': 0.05,\n",
       " 'EX_arg_L_e': 0.05,\n",
       " 'EX_asn_L_e': 0.05,\n",
       " 'EX_asp_L_e': 0.05,\n",
       " 'EX_btn_e': 0.005,\n",
       " 'EX_ca2_e': 1000.0,\n",
       " 'EX_chol_e': 0.005,\n",
       " 'EX_cl_e': 1000.0,\n",
       " 'EX_cys_L_e': 0.05,\n",
       " 'EX_fe2_e': 1000.0,\n",
       " 'EX_fol_e': 0.005,\n",
       " 'EX_glc_e': 5.0,\n",
       " 'EX_gln_L_e': 0.5,\n",
       " 'EX_glu_L_e': 0.05,\n",
       " 'EX_gly_e': 0.05,\n",
       " 'EX_gthrd_e': 0.05,\n",
       " 'EX_his_L_e': 0.05,\n",
       " 'EX_ile_L_e': 0.05,\n",
       " 'EX_inost_e': 0.005,\n",
       " 'EX_k_e': 1000.0,\n",
       " 'EX_leu_L_e': 0.05,\n",
       " 'EX_lys_L_e': 0.05,\n",
       " 'EX_met_L_e': 0.05,\n",
       " 'EX_na1_e': 1000.0,\n",
       " 'EX_ncam_e': 0.005,\n",
       " 'EX_o2_e': 1000.0,\n",
       " 'EX_peplys_e': 100.0,\n",
       " 'EX_phe_L_e': 0.05,\n",
       " 'EX_pi_e': 1000.0,\n",
       " 'EX_pnto_R_e': 0.005,\n",
       " 'EX_pydx_e': 0.005,\n",
       " 'EX_ribflv_e': 0.005,\n",
       " 'EX_ser_L_e': 0.05,\n",
       " 'EX_thm_e': 0.005,\n",
       " 'EX_thr_L_e': 0.05,\n",
       " 'EX_trp_L_e': 0.05,\n",
       " 'EX_tyr_L_e': 0.05,\n",
       " 'EX_val_L_e': 0.05}"
      ]
     },
     "execution_count": 41,
     "metadata": {},
     "output_type": "execute_result"
    }
   ],
   "source": [
    "model.medium"
   ]
  },
  {
   "cell_type": "code",
   "execution_count": 5,
   "metadata": {
    "ExecuteTime": {
     "end_time": "2020-10-22T12:19:09.743046Z",
     "start_time": "2020-10-22T12:19:09.699478Z"
    }
   },
   "outputs": [],
   "source": [
    "recon1Graph = nx.DiGraph()\n",
    "for rxn in model.reactions:\n",
    "    \n",
    "    rxnFormula = re.sub(r'\\s*\\d+\\.\\d+\\s*', '', rxn.reaction)\n",
    "    # Get reactions, productions, and network directionality\n",
    "    if \"-->\" in rxnFormula:\n",
    "        reactants, products = rxnFormula.split('-->')\n",
    "        reactionType = 'IRREVERSIBLE'\n",
    "    elif \"<=>\" in rxnFormula:\n",
    "        reactants, products = rxnFormula.split('<=>')\n",
    "        reactionType = 'REVERSIBLE'\n",
    "    # Construct directed network by products\n",
    "    for prod in products.split('+'):\n",
    "        for react in reactants.split('+'):\n",
    "            if reactionType == 'IRREVERSIBLE':\n",
    "                #recon1Graph.add_edge(u_of_edge=react.strip(), v_of_edge=prod.strip(), \n",
    "                #                     color='blue', label=rxn.id)\n",
    "                try:\n",
    "                    recon1Graph.add_edge(u_of_edge=model.genes.get_by_id(rxn), \n",
    "                                         v_of_edge=react.strip(), \n",
    "                                         color='green', label=rxn.id)\n",
    "                    recon1Graph.add_edge(u_of_edge=model.genes.get_by_id(rxn), \n",
    "                                         v_of_edge=prod.strip(), \n",
    "                                         color='green', label=rxn.id)\n",
    "                except KeyError:\n",
    "                    pass\n",
    "                    \n",
    "            elif reactionType == 'REVERSIBLE':\n",
    "                #recon1Graph.add_edge(u_of_edge=react.strip(), v_of_edge=prod.strip(), \n",
    "                #                     color='blue', label=rxn.id)\n",
    "                #recon1Graph.add_edge(u_of_edge=prod.strip(), v_of_edge=react.strip(), \n",
    "                #                     color='blue', label=rxn.id)\n",
    "                try:\n",
    "                    recon1Graph.add_edge(u_of_edge=model.genes.get_by_id(rxn), \n",
    "                                         v_of_edge=react.strip(), \n",
    "                                         color='green', label=rxn.id)\n",
    "                    recon1Graph.add_edge(u_of_edge=model.genes.get_by_id(rxn), \n",
    "                                         v_of_edge=prod.strip(), \n",
    "                                         color='green', label=rxn.id)\n",
    "                except KeyError:\n",
    "                    pass\n",
    "                "
   ]
  },
  {
   "cell_type": "code",
   "execution_count": 6,
   "metadata": {
    "ExecuteTime": {
     "end_time": "2020-10-22T12:19:13.096472Z",
     "start_time": "2020-10-22T12:19:13.089439Z"
    }
   },
   "outputs": [
    {
     "name": "stdout",
     "output_type": "stream",
     "text": [
      "PI3PP: h2o_c + pail3p_hs_c --> pail_hs_c + pi_c\n",
      "frozenset({<Gene 8897.3 at 0x7f8595871490>, <Gene 8897.1 at 0x7f8595871a30>, <Gene 8897.2 at 0x7f8595871a60>})\n"
     ]
    },
    {
     "ename": "KeyError",
     "evalue": "frozenset({<Gene 8897.3 at 0x7f8595871490>, <Gene 8897.1 at 0x7f8595871a30>, <Gene 8897.2 at 0x7f8595871a60>})",
     "output_type": "error",
     "traceback": [
      "\u001b[0;31m---------------------------------------------------------------------------\u001b[0m",
      "\u001b[0;31mKeyError\u001b[0m                                  Traceback (most recent call last)",
      "\u001b[0;32m<ipython-input-6-a67dc7244126>\u001b[0m in \u001b[0;36m<module>\u001b[0;34m\u001b[0m\n\u001b[1;32m      5\u001b[0m \u001b[0mgpr\u001b[0m \u001b[0;34m=\u001b[0m \u001b[0mrxn\u001b[0m\u001b[0;34m.\u001b[0m\u001b[0mgenes\u001b[0m\u001b[0;34m\u001b[0m\u001b[0;34m\u001b[0m\u001b[0m\n\u001b[1;32m      6\u001b[0m \u001b[0mprint\u001b[0m\u001b[0;34m(\u001b[0m\u001b[0mgpr\u001b[0m\u001b[0;34m)\u001b[0m\u001b[0;34m\u001b[0m\u001b[0;34m\u001b[0m\u001b[0m\n\u001b[0;32m----> 7\u001b[0;31m \u001b[0mgenes\u001b[0m \u001b[0;34m=\u001b[0m \u001b[0mmodel\u001b[0m\u001b[0;34m.\u001b[0m\u001b[0mgenes\u001b[0m\u001b[0;34m.\u001b[0m\u001b[0mget_by_id\u001b[0m\u001b[0;34m(\u001b[0m\u001b[0mgpr\u001b[0m\u001b[0;34m)\u001b[0m\u001b[0;34m\u001b[0m\u001b[0;34m\u001b[0m\u001b[0m\n\u001b[0m",
      "\u001b[0;32m~/PyEnvs/networks/lib/python3.8/site-packages/cobra/core/dictlist.py\u001b[0m in \u001b[0;36mget_by_id\u001b[0;34m(self, id)\u001b[0m\n\u001b[1;32m     56\u001b[0m     \u001b[0;32mdef\u001b[0m \u001b[0mget_by_id\u001b[0m\u001b[0;34m(\u001b[0m\u001b[0mself\u001b[0m\u001b[0;34m,\u001b[0m \u001b[0mid\u001b[0m\u001b[0;34m)\u001b[0m\u001b[0;34m:\u001b[0m\u001b[0;34m\u001b[0m\u001b[0;34m\u001b[0m\u001b[0m\n\u001b[1;32m     57\u001b[0m         \u001b[0;34m\"\"\"return the element with a matching id\"\"\"\u001b[0m\u001b[0;34m\u001b[0m\u001b[0;34m\u001b[0m\u001b[0m\n\u001b[0;32m---> 58\u001b[0;31m         \u001b[0;32mreturn\u001b[0m \u001b[0mlist\u001b[0m\u001b[0;34m.\u001b[0m\u001b[0m__getitem__\u001b[0m\u001b[0;34m(\u001b[0m\u001b[0mself\u001b[0m\u001b[0;34m,\u001b[0m \u001b[0mself\u001b[0m\u001b[0;34m.\u001b[0m\u001b[0m_dict\u001b[0m\u001b[0;34m[\u001b[0m\u001b[0mid\u001b[0m\u001b[0;34m]\u001b[0m\u001b[0;34m)\u001b[0m\u001b[0;34m\u001b[0m\u001b[0;34m\u001b[0m\u001b[0m\n\u001b[0m\u001b[1;32m     59\u001b[0m \u001b[0;34m\u001b[0m\u001b[0m\n\u001b[1;32m     60\u001b[0m     \u001b[0;32mdef\u001b[0m \u001b[0mlist_attr\u001b[0m\u001b[0;34m(\u001b[0m\u001b[0mself\u001b[0m\u001b[0;34m,\u001b[0m \u001b[0mattribute\u001b[0m\u001b[0;34m)\u001b[0m\u001b[0;34m:\u001b[0m\u001b[0;34m\u001b[0m\u001b[0;34m\u001b[0m\u001b[0m\n",
      "\u001b[0;31mKeyError\u001b[0m: frozenset({<Gene 8897.3 at 0x7f8595871490>, <Gene 8897.1 at 0x7f8595871a30>, <Gene 8897.2 at 0x7f8595871a60>})"
     ]
    }
   ],
   "source": [
    "# Get reaction\n",
    "rxn = model.reactions[3000]\n",
    "print(rxn)\n",
    "\n",
    "gpr = rxn.genes\n",
    "print(gpr)\n",
    "genes = model.genes.get_by_id(gpr)"
   ]
  },
  {
   "cell_type": "code",
   "execution_count": 7,
   "metadata": {
    "ExecuteTime": {
     "end_time": "2020-10-22T12:19:19.388401Z",
     "start_time": "2020-10-22T12:19:19.337938Z"
    }
   },
   "outputs": [
    {
     "data": {
      "image/png": "[encoded data removed]",
      "text/plain": [
       "<Figure size 1200x800 with 1 Axes>"
      ]
     },
     "metadata": {},
     "output_type": "display_data"
    }
   ],
   "source": [
    "plt.figure(figsize=(12,8), dpi=100, facecolor='w', edgecolor='k')\n",
    "nx.draw(recon1Graph, node_size=5, with_labels=False)\n",
    "plt.show()"
   ]
  }
 ],
 "metadata": {
  "kernelspec": {
   "display_name": "networks",
   "language": "python",
   "name": "networks"
  },
  "language_info": {
   "codemirror_mode": {
    "name": "ipython",
    "version": 3
   },
   "file_extension": ".py",
   "mimetype": "text/x-python",
   "name": "python",
   "nbconvert_exporter": "python",
   "pygments_lexer": "ipython3",
   "version": "3.8.5"
  },
  "latex_envs": {
   "LaTeX_envs_menu_present": true,
   "autoclose": false,
   "autocomplete": true,
   "bibliofile": "biblio.bib",
   "cite_by": "apalike",
   "current_citInitial": 1,
   "eqLabelWithNumbers": true,
   "eqNumInitial": 1,
   "hotkeys": {
    "equation": "Ctrl-E",
    "itemize": "Ctrl-I"
   },
   "labels_anchors": false,
   "latex_user_defs": false,
   "report_style_numbering": false,
   "user_envs_cfg": false
  },
  "toc": {
   "base_numbering": 1,
   "nav_menu": {},
   "number_sections": true,
   "sideBar": true,
   "skip_h1_title": false,
   "title_cell": "Table of Contents",
   "title_sidebar": "Contents",
   "toc_cell": false,
   "toc_position": {},
   "toc_section_display": true,
   "toc_window_display": false
  },
  "varInspector": {
   "cols": {
    "lenName": 16,
    "lenType": 16,
    "lenVar": 40
   },
   "kernels_config": {
    "python": {
     "delete_cmd_postfix": "",
     "delete_cmd_prefix": "del ",
     "library": "var_list.py",
     "varRefreshCmd": "print(var_dic_list())"
    },
    "r": {
     "delete_cmd_postfix": ") ",
     "delete_cmd_prefix": "rm(",
     "library": "var_list.r",
     "varRefreshCmd": "cat(var_dic_list()) "
    }
   },
   "types_to_exclude": [
    "module",
    "function",
    "builtin_function_or_method",
    "instance",
    "_Feature"
   ],
   "window_display": false
  }
 },
 "nbformat": 4,
 "nbformat_minor": 4
}
